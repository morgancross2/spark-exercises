{
 "cells": [
  {
   "cell_type": "code",
   "execution_count": 24,
   "id": "46050c88-1392-4da4-98fe-93833c88ad09",
   "metadata": {},
   "outputs": [],
   "source": [
    "import pandas as pd\n",
    "import numpy as np\n",
    "import pyspark\n",
    "import pyspark.sql.functions as sf"
   ]
  },
  {
   "cell_type": "code",
   "execution_count": 3,
   "id": "053b4894-d271-4ee1-b98a-595e8a2842f3",
   "metadata": {},
   "outputs": [
    {
     "name": "stderr",
     "output_type": "stream",
     "text": [
      "Setting default log level to \"WARN\".\n",
      "To adjust logging level use sc.setLogLevel(newLevel). For SparkR, use setLogLevel(newLevel).\n"
     ]
    },
    {
     "name": "stdout",
     "output_type": "stream",
     "text": [
      "22/10/20 14:40:58 WARN NativeCodeLoader: Unable to load native-hadoop library for your platform... using builtin-java classes where applicable\n",
      "22/10/20 14:40:59 WARN Utils: Service 'SparkUI' could not bind on port 4040. Attempting port 4041.\n"
     ]
    }
   ],
   "source": [
    "spark = pyspark.sql.SparkSession.builder.getOrCreate()"
   ]
  },
  {
   "cell_type": "markdown",
   "id": "9a0b4f00-399e-4f9a-b10d-2a2f6b57cd84",
   "metadata": {},
   "source": [
    "1. Create a spark data frame that contains your favorite programming languages.\n",
    "    - The name of the column should be `language`"
   ]
  },
  {
   "cell_type": "code",
   "execution_count": 2,
   "id": "fdc241bd-49dc-47e0-8d77-f25caba06037",
   "metadata": {},
   "outputs": [],
   "source": [
    "x = {'language': ['python', 'pandas', 'spark', 'ruby', 'java', 'javascript']}"
   ]
  },
  {
   "cell_type": "code",
   "execution_count": 5,
   "id": "8086549e-7edc-4f61-b806-ee6e6f9b212f",
   "metadata": {},
   "outputs": [],
   "source": [
    "x = pd.DataFrame(x)"
   ]
  },
  {
   "cell_type": "code",
   "execution_count": 6,
   "id": "670f61e0-1f93-4778-b70f-68c7a19bdc30",
   "metadata": {},
   "outputs": [],
   "source": [
    "df = spark.createDataFrame(x)"
   ]
  },
  {
   "cell_type": "code",
   "execution_count": 10,
   "id": "086be72f-c9a1-4426-b835-607aa689a112",
   "metadata": {},
   "outputs": [
    {
     "name": "stderr",
     "output_type": "stream",
     "text": [
      "                                                                                \r"
     ]
    },
    {
     "name": "stdout",
     "output_type": "stream",
     "text": [
      "+----------+\n",
      "|  language|\n",
      "+----------+\n",
      "|    python|\n",
      "|    pandas|\n",
      "|     spark|\n",
      "|      ruby|\n",
      "|      java|\n",
      "|javascript|\n",
      "+----------+\n",
      "\n"
     ]
    }
   ],
   "source": [
    "df.show()"
   ]
  },
  {
   "cell_type": "markdown",
   "id": "63226b6f-74ea-46da-93ef-68216828ef76",
   "metadata": {},
   "source": [
    "    - View the schema of the dataframe"
   ]
  },
  {
   "cell_type": "code",
   "execution_count": 11,
   "id": "9a1e89e8-f62a-4ae2-b78a-ab6d93033699",
   "metadata": {},
   "outputs": [
    {
     "name": "stdout",
     "output_type": "stream",
     "text": [
      "root\n",
      " |-- language: string (nullable = true)\n",
      "\n"
     ]
    }
   ],
   "source": [
    "df.printSchema()"
   ]
  },
  {
   "cell_type": "markdown",
   "id": "a3f79db9-8d15-478a-9750-d0fa42854f49",
   "metadata": {},
   "source": [
    "    - Output the shape of the dataframe"
   ]
  },
  {
   "cell_type": "code",
   "execution_count": 19,
   "id": "67ade463-315f-4dcb-aa04-2928869d2b55",
   "metadata": {},
   "outputs": [
    {
     "data": {
      "text/plain": [
       "6"
      ]
     },
     "execution_count": 19,
     "metadata": {},
     "output_type": "execute_result"
    }
   ],
   "source": [
    "df.count()"
   ]
  },
  {
   "cell_type": "markdown",
   "id": "d232264f-81ec-402e-9ee3-de8e7d1e72c7",
   "metadata": {},
   "source": [
    "    - Show the first 5 records in the dataframe"
   ]
  },
  {
   "cell_type": "code",
   "execution_count": 20,
   "id": "2a4f3e0b-94fd-4d84-827a-9410b75483d4",
   "metadata": {},
   "outputs": [
    {
     "name": "stdout",
     "output_type": "stream",
     "text": [
      "+--------+\n",
      "|language|\n",
      "+--------+\n",
      "|  python|\n",
      "|  pandas|\n",
      "|   spark|\n",
      "|    ruby|\n",
      "|    java|\n",
      "+--------+\n",
      "only showing top 5 rows\n",
      "\n"
     ]
    }
   ],
   "source": [
    "df.show(5)"
   ]
  },
  {
   "cell_type": "markdown",
   "id": "efebfbd2-862a-491b-bd04-9bf87afec44a",
   "metadata": {},
   "source": [
    "2. Load the `mpg` dataset as a spark dataframe."
   ]
  },
  {
   "cell_type": "code",
   "execution_count": 21,
   "id": "4ce89871-4b1d-4744-b5f6-61df7d028e21",
   "metadata": {},
   "outputs": [],
   "source": [
    "from pydataset import data"
   ]
  },
  {
   "cell_type": "code",
   "execution_count": 22,
   "id": "151adcff-ecaf-461a-b277-7ccf4270f8fa",
   "metadata": {},
   "outputs": [],
   "source": [
    "mpg = spark.createDataFrame(data('mpg'))"
   ]
  },
  {
   "cell_type": "code",
   "execution_count": 23,
   "id": "08202baf-4c26-42f1-bcc6-f8f572305456",
   "metadata": {},
   "outputs": [
    {
     "name": "stdout",
     "output_type": "stream",
     "text": [
      "+------------+-----+-----+----+---+--------+---+---+---+---+-------+\n",
      "|manufacturer|model|displ|year|cyl|   trans|drv|cty|hwy| fl|  class|\n",
      "+------------+-----+-----+----+---+--------+---+---+---+---+-------+\n",
      "|        audi|   a4|  1.8|1999|  4|auto(l5)|  f| 18| 29|  p|compact|\n",
      "+------------+-----+-----+----+---+--------+---+---+---+---+-------+\n",
      "only showing top 1 row\n",
      "\n"
     ]
    }
   ],
   "source": [
    "mpg.show(1)"
   ]
  },
  {
   "cell_type": "markdown",
   "id": "022375e3-5174-4394-838f-db43fbf3705b",
   "metadata": {},
   "source": [
    "    1. Create 1 column of output that contains a message like the one below:\n",
    "\n",
    "            The 1999 audi a4 has a 4 cylinder engine.\n",
    "\n",
    "        For each vehicle."
   ]
  },
  {
   "cell_type": "code",
   "execution_count": 36,
   "id": "dad2a5f5-2130-4368-9b7f-746bce2df35e",
   "metadata": {},
   "outputs": [
    {
     "name": "stdout",
     "output_type": "stream",
     "text": [
      "+-------------------------------------------+\n",
      "|output                                     |\n",
      "+-------------------------------------------+\n",
      "|The 1999 audi has a 4 cylinder engine.     |\n",
      "|The 1999 audi has a 4 cylinder engine.     |\n",
      "|The 2008 audi has a 4 cylinder engine.     |\n",
      "|The 2008 audi has a 4 cylinder engine.     |\n",
      "|The 1999 audi has a 6 cylinder engine.     |\n",
      "|The 1999 audi has a 6 cylinder engine.     |\n",
      "|The 2008 audi has a 6 cylinder engine.     |\n",
      "|The 1999 audi has a 4 cylinder engine.     |\n",
      "|The 1999 audi has a 4 cylinder engine.     |\n",
      "|The 2008 audi has a 4 cylinder engine.     |\n",
      "|The 2008 audi has a 4 cylinder engine.     |\n",
      "|The 1999 audi has a 6 cylinder engine.     |\n",
      "|The 1999 audi has a 6 cylinder engine.     |\n",
      "|The 2008 audi has a 6 cylinder engine.     |\n",
      "|The 2008 audi has a 6 cylinder engine.     |\n",
      "|The 1999 audi has a 6 cylinder engine.     |\n",
      "|The 2008 audi has a 6 cylinder engine.     |\n",
      "|The 2008 audi has a 8 cylinder engine.     |\n",
      "|The 2008 chevrolet has a 8 cylinder engine.|\n",
      "|The 2008 chevrolet has a 8 cylinder engine.|\n",
      "+-------------------------------------------+\n",
      "only showing top 20 rows\n",
      "\n"
     ]
    }
   ],
   "source": [
    "textdf = mpg.select(sf.concat(sf.lit(\"The \"),\n",
    "                  mpg.year,\n",
    "                  sf.lit(\" \"),\n",
    "                  mpg.manufacturer,\n",
    "                  sf.lit(\" has a \"),\n",
    "                  mpg.cyl, \n",
    "                  sf.lit(\" cylinder engine.\")\n",
    "                 ).alias('output')\n",
    "          )\n",
    "textdf.show(truncate=False)"
   ]
  },
  {
   "cell_type": "markdown",
   "id": "8614c707-1f8f-45b9-8717-1d9ddb832b13",
   "metadata": {},
   "source": [
    "    1. Transform the `trans` column so that it only contains either `manual` or `auto`."
   ]
  },
  {
   "cell_type": "code",
   "execution_count": 56,
   "id": "66c978af-aaef-4958-a221-e331e5cdd786",
   "metadata": {},
   "outputs": [
    {
     "name": "stdout",
     "output_type": "stream",
     "text": [
      "+------+\n",
      "| trans|\n",
      "+------+\n",
      "|  auto|\n",
      "|manual|\n",
      "|manual|\n",
      "|  auto|\n",
      "|  auto|\n",
      "+------+\n",
      "only showing top 5 rows\n",
      "\n"
     ]
    }
   ],
   "source": [
    "mpg.select(sf.regexp_replace(\"trans\", r\"\\(.+\\)\", \"\").alias(\"trans\")).show(5)"
   ]
  },
  {
   "cell_type": "markdown",
   "id": "6ed3065c-a647-46f6-b5c3-aa9c705da746",
   "metadata": {},
   "source": [
    "3. Load the `tips` dataset as a spark dataframe."
   ]
  },
  {
   "cell_type": "code",
   "execution_count": 57,
   "id": "d9389f5a-641a-489e-b5d5-bb81bb03d615",
   "metadata": {},
   "outputs": [],
   "source": [
    "tips = spark.createDataFrame(data('tips'))"
   ]
  },
  {
   "cell_type": "code",
   "execution_count": 58,
   "id": "bde47015-04b4-447f-80a3-488e11f5d353",
   "metadata": {},
   "outputs": [
    {
     "name": "stdout",
     "output_type": "stream",
     "text": [
      "+----------+----+------+------+---+------+----+\n",
      "|total_bill| tip|   sex|smoker|day|  time|size|\n",
      "+----------+----+------+------+---+------+----+\n",
      "|     16.99|1.01|Female|    No|Sun|Dinner|   2|\n",
      "|     10.34|1.66|  Male|    No|Sun|Dinner|   3|\n",
      "|     21.01| 3.5|  Male|    No|Sun|Dinner|   3|\n",
      "|     23.68|3.31|  Male|    No|Sun|Dinner|   2|\n",
      "|     24.59|3.61|Female|    No|Sun|Dinner|   4|\n",
      "+----------+----+------+------+---+------+----+\n",
      "only showing top 5 rows\n",
      "\n"
     ]
    }
   ],
   "source": [
    "tips.show(5)"
   ]
  },
  {
   "cell_type": "markdown",
   "id": "63e476cc-10de-4231-8bca-541d89f53730",
   "metadata": {},
   "source": [
    "    1. What percentage of observations are smokers?"
   ]
  },
  {
   "cell_type": "code",
   "execution_count": 77,
   "id": "11692238-8f13-43da-ad3d-74d00e0947b7",
   "metadata": {},
   "outputs": [
    {
     "name": "stderr",
     "output_type": "stream",
     "text": [
      "[Stage 52:>                                                       (0 + 10) / 10]\r"
     ]
    },
    {
     "name": "stdout",
     "output_type": "stream",
     "text": [
      "+-------+-----------------+-----------------+------+------+----+------+------------------+\n",
      "|summary|       total_bill|              tip|   sex|smoker| day|  time|              size|\n",
      "+-------+-----------------+-----------------+------+------+----+------+------------------+\n",
      "|  count|              244|              244|   244|   244| 244|   244|               244|\n",
      "|   mean|19.78594262295082| 2.99827868852459|  null|  null|null|  null| 2.569672131147541|\n",
      "| stddev|8.902411954856857|1.383638189001182|  null|  null|null|  null|0.9510998047322344|\n",
      "|    min|             3.07|              1.0|Female|    No| Fri|Dinner|                 1|\n",
      "|    max|            50.81|             10.0|  Male|   Yes|Thur| Lunch|                 6|\n",
      "+-------+-----------------+-----------------+------+------+----+------+------------------+\n",
      "\n"
     ]
    },
    {
     "name": "stderr",
     "output_type": "stream",
     "text": [
      "                                                                                \r"
     ]
    }
   ],
   "source": [
    "tips.describe().show()"
   ]
  },
  {
   "cell_type": "code",
   "execution_count": 107,
   "id": "dd172d72-9b27-4397-8149-749006d9552a",
   "metadata": {},
   "outputs": [
    {
     "name": "stdout",
     "output_type": "stream",
     "text": [
      "+------+-------------+\n",
      "|smoker|smoker_counts|\n",
      "+------+-------------+\n",
      "|    No|          151|\n",
      "|   Yes|           93|\n",
      "+------+-------------+\n",
      "\n"
     ]
    }
   ],
   "source": [
    "# tips.select(((sf.count(tips.smoker != sf.lit('No'))\n",
    "#              / sf.count(tips.smoker)) * 100).alias('prct_smokers')).show()\n",
    "\n",
    "s = tips.groupBy('smoker').agg(sf.count(tips.smoker).alias('smoker_counts'))\n",
    "s.show()"
   ]
  },
  {
   "cell_type": "code",
   "execution_count": 111,
   "id": "e0326ce9-5552-4991-b2c5-d9574b7c842f",
   "metadata": {},
   "outputs": [],
   "source": [
    "# s.select((s.filter(s.smoker == sf.lit('Yes')).smoker_counts) / sf.sum(s.smoker_counts)).show()"
   ]
  },
  {
   "cell_type": "code",
   "execution_count": 114,
   "id": "0835097b-89c5-470b-a489-46bb412632cd",
   "metadata": {},
   "outputs": [],
   "source": [
    "s.createOrReplaceTempView(\"s\")"
   ]
  },
  {
   "cell_type": "code",
   "execution_count": 118,
   "id": "b96e62a7-1dfe-46a4-b999-34d063d58504",
   "metadata": {},
   "outputs": [
    {
     "name": "stdout",
     "output_type": "stream",
     "text": [
      "+-------------+\n",
      "|smoker_counts|\n",
      "+-------------+\n",
      "|           93|\n",
      "+-------------+\n",
      "\n"
     ]
    }
   ],
   "source": [
    "spark.sql(\"SELECT smoker_counts FROM s WHERE smoker = 'Yes'\").show()"
   ]
  },
  {
   "cell_type": "code",
   "execution_count": 120,
   "id": "a71f8a93-b305-4e8c-9ec1-4f7756f9a484",
   "metadata": {},
   "outputs": [
    {
     "name": "stdout",
     "output_type": "stream",
     "text": [
      "+-----------+\n",
      "|smoker_prct|\n",
      "+-----------+\n",
      "|      38.11|\n",
      "+-----------+\n",
      "\n"
     ]
    }
   ],
   "source": [
    "spark.sql(\n",
    "    \"\"\"\n",
    "    SELECT ROUND((SELECT smoker_counts FROM s WHERE smoker = 'Yes')/sum(smoker_counts)*100, 2) as smoker_prct\n",
    "    FROM s\n",
    "    \"\"\"\n",
    ").show()"
   ]
  },
  {
   "cell_type": "markdown",
   "id": "c59a8e74-adb8-426a-ae34-df3ec86d6cd2",
   "metadata": {},
   "source": [
    "    1. Create a column that contains the tip percentage"
   ]
  },
  {
   "cell_type": "code",
   "execution_count": 121,
   "id": "71201493-6d65-4fa1-97f8-f5350008a834",
   "metadata": {},
   "outputs": [
    {
     "name": "stdout",
     "output_type": "stream",
     "text": [
      "+----------+----+------+------+---+------+----+\n",
      "|total_bill| tip|   sex|smoker|day|  time|size|\n",
      "+----------+----+------+------+---+------+----+\n",
      "|     16.99|1.01|Female|    No|Sun|Dinner|   2|\n",
      "+----------+----+------+------+---+------+----+\n",
      "only showing top 1 row\n",
      "\n"
     ]
    }
   ],
   "source": [
    "tips.show(1)"
   ]
  },
  {
   "cell_type": "code",
   "execution_count": 134,
   "id": "8f26c26d-d219-4717-b1d2-750293516562",
   "metadata": {},
   "outputs": [
    {
     "data": {
      "text/plain": [
       "DataFrame[((tip / total_bill) * 100): double]"
      ]
     },
     "execution_count": 134,
     "metadata": {},
     "output_type": "execute_result"
    }
   ],
   "source": [
    "col = tips.select((sf.expr('tip / total_bill * 100')))\n",
    "col"
   ]
  },
  {
   "cell_type": "code",
   "execution_count": 138,
   "id": "d94757f0-c2d0-431a-9d35-045168229e36",
   "metadata": {},
   "outputs": [
    {
     "name": "stdout",
     "output_type": "stream",
     "text": [
      "+----------+----+------+------+---+------+----+------------------+\n",
      "|total_bill| tip|   sex|smoker|day|  time|size|          tip_prct|\n",
      "+----------+----+------+------+---+------+----+------------------+\n",
      "|     16.99|1.01|Female|    No|Sun|Dinner|   2|5.9446733372572105|\n",
      "|     10.34|1.66|  Male|    No|Sun|Dinner|   3|16.054158607350097|\n",
      "|     21.01| 3.5|  Male|    No|Sun|Dinner|   3|16.658733936220845|\n",
      "|     23.68|3.31|  Male|    No|Sun|Dinner|   2| 13.97804054054054|\n",
      "|     24.59|3.61|Female|    No|Sun|Dinner|   4|14.680764538430255|\n",
      "+----------+----+------+------+---+------+----+------------------+\n",
      "only showing top 5 rows\n",
      "\n"
     ]
    }
   ],
   "source": [
    "tips = tips.withColumn('tip_prct', sf.expr('tip / total_bill * 100'))\n",
    "tips.show(5)"
   ]
  },
  {
   "cell_type": "markdown",
   "id": "de516b1b-2d01-4444-aaf8-a27515be2e13",
   "metadata": {},
   "source": [
    "    1. Calculate the average tip percentage for each combination of sex and smoker."
   ]
  },
  {
   "cell_type": "code",
   "execution_count": 137,
   "id": "0e47f9de-610f-4e08-b513-570560ac41af",
   "metadata": {},
   "outputs": [
    {
     "name": "stderr",
     "output_type": "stream",
     "text": [
      "[Stage 143:>                                                      (0 + 10) / 10]\r"
     ]
    },
    {
     "name": "stdout",
     "output_type": "stream",
     "text": [
      "+------+------------------+------------------+\n",
      "|   sex|                No|               Yes|\n",
      "+------+------------------+------------------+\n",
      "|Female| 15.69209707691836| 18.21503526994103|\n",
      "|  Male|16.066871512912982|15.277117520248513|\n",
      "+------+------------------+------------------+\n",
      "\n"
     ]
    },
    {
     "name": "stderr",
     "output_type": "stream",
     "text": [
      "                                                                                \r"
     ]
    }
   ],
   "source": [
    "tips.groupby('sex').pivot('smoker').mean('tip_prct').show()"
   ]
  },
  {
   "cell_type": "markdown",
   "id": "5b873847-9593-4c6b-bd0c-d41049047090",
   "metadata": {},
   "source": [
    "4. Use the seattle weather dataset referenced in the lesson to answer the questions below."
   ]
  },
  {
   "cell_type": "code",
   "execution_count": 139,
   "id": "b3686451-0324-42fc-9969-cfb4a7b2cab4",
   "metadata": {},
   "outputs": [
    {
     "name": "stdout",
     "output_type": "stream",
     "text": [
      "+----------+-------------+--------+--------+----+-------+\n",
      "|      date|precipitation|temp_max|temp_min|wind|weather|\n",
      "+----------+-------------+--------+--------+----+-------+\n",
      "|2012-01-01|          0.0|    12.8|     5.0| 4.7|drizzle|\n",
      "|2012-01-02|         10.9|    10.6|     2.8| 4.5|   rain|\n",
      "+----------+-------------+--------+--------+----+-------+\n",
      "only showing top 2 rows\n",
      "\n"
     ]
    }
   ],
   "source": [
    "from vega_datasets import data\n",
    "weather = data.seattle_weather().assign(date=lambda df: df.date.astype(str))\n",
    "weather = spark.createDataFrame(weather)\n",
    "weather.show(2)"
   ]
  },
  {
   "cell_type": "markdown",
   "id": "18f51f8b-be63-42b7-90bf-60675902f947",
   "metadata": {},
   "source": [
    "   - Convert the temperatures to fahrenheit."
   ]
  },
  {
   "cell_type": "code",
   "execution_count": 148,
   "id": "f62fafa0-3c6b-43c0-b643-bbe5450376f5",
   "metadata": {},
   "outputs": [
    {
     "name": "stdout",
     "output_type": "stream",
     "text": [
      "+----------+-------------+----+-------+----------+----------+\n",
      "|      date|precipitation|wind|weather|temp_max_f|temp_min_f|\n",
      "+----------+-------------+----+-------+----------+----------+\n",
      "|2012-01-01|          0.0| 4.7|drizzle|      55.0|      41.0|\n",
      "|2012-01-02|         10.9| 4.5|   rain|      51.1|      37.0|\n",
      "|2012-01-03|          0.8| 2.3|   rain|      53.1|      45.0|\n",
      "|2012-01-04|         20.3| 4.7|   rain|      54.0|      42.1|\n",
      "|2012-01-05|          1.3| 6.1|   rain|      48.0|      37.0|\n",
      "+----------+-------------+----+-------+----------+----------+\n",
      "only showing top 5 rows\n",
      "\n"
     ]
    }
   ],
   "source": [
    "weather = weather.withColumn('temp_max_f', sf.expr('ROUND((((9/5)*temp_max) + 32),1)'))\\\n",
    ".withColumn('temp_min_f', sf.expr('ROUND((((9/5)*temp_min) + 32),1)'))\\\n",
    ".drop('temp_max', 'temp_min')\n",
    "weather.show(5)"
   ]
  },
  {
   "cell_type": "markdown",
   "id": "00fc3758-c02a-4e1d-a4d2-6a55d2ec0129",
   "metadata": {},
   "source": [
    "    - Which month has the most rain, on average?"
   ]
  },
  {
   "cell_type": "code",
   "execution_count": 154,
   "id": "c531b96b-00aa-48f9-baa1-51b5e0c1a047",
   "metadata": {},
   "outputs": [
    {
     "name": "stderr",
     "output_type": "stream",
     "text": [
      "[Stage 156:===========>                                            (2 + 8) / 10]\r"
     ]
    },
    {
     "name": "stdout",
     "output_type": "stream",
     "text": [
      "+-----+------------------+\n",
      "|month|    total_rainfall|\n",
      "+-----+------------------+\n",
      "|    1|465.99999999999994|\n",
      "|    2|             422.0|\n",
      "|    3|             606.2|\n",
      "|    4|             375.4|\n",
      "|    5|             207.5|\n",
      "|    6|             132.9|\n",
      "|    7|              48.2|\n",
      "|    8|             163.7|\n",
      "|    9|235.49999999999997|\n",
      "|   10|             503.4|\n",
      "|   11|             642.5|\n",
      "|   12|             622.7|\n",
      "+-----+------------------+\n",
      "\n"
     ]
    },
    {
     "name": "stderr",
     "output_type": "stream",
     "text": [
      "                                                                                \r"
     ]
    }
   ],
   "source": [
    "(\n",
    "    weather.withColumn(\"month\", sf.month(\"date\"))\n",
    "    .groupBy(\"month\")\n",
    "    .agg(sf.sum(\"precipitation\").alias(\"total_rainfall\"))\n",
    "    .sort(\"month\")\n",
    "    .show()\n",
    ")"
   ]
  },
  {
   "cell_type": "markdown",
   "id": "f9c8ed8f-da7f-469a-9554-9fd5cdac6c65",
   "metadata": {},
   "source": [
    "    - Which year was the windiest?"
   ]
  },
  {
   "cell_type": "code",
   "execution_count": 155,
   "id": "5fe20efd-c41e-4ac2-8dbe-fe84d6356778",
   "metadata": {},
   "outputs": [
    {
     "name": "stderr",
     "output_type": "stream",
     "text": [
      "[Stage 159:>                                                      (0 + 10) / 10]\r"
     ]
    },
    {
     "name": "stdout",
     "output_type": "stream",
     "text": [
      "+----+------------------+\n",
      "|year|        total_wind|\n",
      "+----+------------------+\n",
      "|2012|            1244.7|\n",
      "|2013|1100.8000000000002|\n",
      "|2014|            1236.5|\n",
      "|2015|1153.2999999999997|\n",
      "+----+------------------+\n",
      "\n"
     ]
    },
    {
     "name": "stderr",
     "output_type": "stream",
     "text": [
      "                                                                                \r"
     ]
    }
   ],
   "source": [
    "(\n",
    "    weather.withColumn(\"year\", sf.year(\"date\"))\n",
    "    .groupBy(\"year\")\n",
    "    .agg(sf.sum(\"wind\").alias(\"total_wind\"))\n",
    "    .sort(\"year\")\n",
    "    .show()\n",
    ")"
   ]
  },
  {
   "cell_type": "markdown",
   "id": "b5ba2dd8-9f7d-44f5-8a6e-51d905261268",
   "metadata": {},
   "source": [
    "    - What is the most frequent type of weather in January?"
   ]
  },
  {
   "cell_type": "code",
   "execution_count": 157,
   "id": "7981b988-8b66-481d-997b-456065120683",
   "metadata": {},
   "outputs": [
    {
     "name": "stderr",
     "output_type": "stream",
     "text": [
      "[Stage 162:>                                                      (0 + 10) / 10]\r"
     ]
    },
    {
     "name": "stdout",
     "output_type": "stream",
     "text": [
      "+-------+--------------+\n",
      "|weather|count(weather)|\n",
      "+-------+--------------+\n",
      "|drizzle|            10|\n",
      "|   rain|            35|\n",
      "|    sun|            33|\n",
      "|   snow|             8|\n",
      "|    fog|            38|\n",
      "+-------+--------------+\n",
      "\n"
     ]
    },
    {
     "name": "stderr",
     "output_type": "stream",
     "text": [
      "                                                                                \r"
     ]
    }
   ],
   "source": [
    "(\n",
    "    weather.filter(sf.month(\"date\") == 1)\n",
    "    .groupBy(\"weather\")\n",
    "    .agg(sf.count(\"weather\"))\n",
    "    .show()\n",
    ")"
   ]
  },
  {
   "cell_type": "markdown",
   "id": "a92b60ec-8798-41d2-9dbb-1071a2be7048",
   "metadata": {},
   "source": [
    "    - What is the average high and low temperature on sunny days in July in 2013 and 2014?"
   ]
  },
  {
   "cell_type": "code",
   "execution_count": 158,
   "id": "d3b6d22a-26bf-4f17-9a5b-0502c27b1ca2",
   "metadata": {},
   "outputs": [
    {
     "name": "stdout",
     "output_type": "stream",
     "text": [
      "+----------+-------------+----+-------+----------+----------+\n",
      "|      date|precipitation|wind|weather|temp_max_f|temp_min_f|\n",
      "+----------+-------------+----+-------+----------+----------+\n",
      "|2012-01-01|          0.0| 4.7|drizzle|      55.0|      41.0|\n",
      "+----------+-------------+----+-------+----------+----------+\n",
      "only showing top 1 row\n",
      "\n"
     ]
    }
   ],
   "source": [
    "weather.show(1)"
   ]
  },
  {
   "cell_type": "code",
   "execution_count": 163,
   "id": "8182d981-cc9d-4d2e-861d-ff02b0fb73c6",
   "metadata": {},
   "outputs": [
    {
     "name": "stderr",
     "output_type": "stream",
     "text": [
      "[Stage 169:=====>                                                  (1 + 9) / 10]\r"
     ]
    },
    {
     "name": "stdout",
     "output_type": "stream",
     "text": [
      "+-------+-----------------+-----------------+\n",
      "|weather|  avg(temp_max_f)|  avg(temp_min_f)|\n",
      "+-------+-----------------+-----------------+\n",
      "|    fog|73.36666666666666|55.63333333333333|\n",
      "|   rain|             72.0|             59.0|\n",
      "|    sun|79.85555555555555|57.14444444444445|\n",
      "+-------+-----------------+-----------------+\n",
      "\n"
     ]
    },
    {
     "name": "stderr",
     "output_type": "stream",
     "text": [
      "                                                                                \r"
     ]
    }
   ],
   "source": [
    "(\n",
    "    weather.filter(sf.month(\"date\") == 7)\n",
    "    .filter(sf.year(\"date\") == 2013)\n",
    "    # .filter(\"weather\" == \"sun\")\n",
    "    .groupBy(\"weather\")\n",
    "    .agg(sf.mean(\"temp_max_f\"), sf.mean(\"temp_min_f\"))\n",
    "    .show()\n",
    ")"
   ]
  },
  {
   "cell_type": "markdown",
   "id": "4c6e81c8-646e-48c8-8d2a-033c3a04720b",
   "metadata": {},
   "source": [
    "    - What percentage of days were rainy in q3 of 2015?"
   ]
  },
  {
   "cell_type": "code",
   "execution_count": 179,
   "id": "c0c1e2a1-3cfb-4193-8042-fd439b4c8924",
   "metadata": {},
   "outputs": [
    {
     "name": "stdout",
     "output_type": "stream",
     "text": [
      "+-------+------------------+\n",
      "|weather|      prct_weather|\n",
      "+-------+------------------+\n",
      "|    fog|23.333333333333332|\n",
      "|drizzle| 5.555555555555555|\n",
      "|    sun| 71.11111111111111|\n",
      "|   rain|2.2222222222222223|\n",
      "+-------+------------------+\n",
      "\n"
     ]
    }
   ],
   "source": [
    "t = (\n",
    "    weather.filter(sf.year(\"date\") == 2015)\n",
    "    .filter(sf.quarter(\"date\") == 3)\n",
    "    # .withColumn(\"rainy_day\", weather == \"rain\")\n",
    "    # .withColumn(\"quarter\", sf.quarter(\"date\"))\n",
    "    # .withColumn(\"year\", sf.year(\"date\"))\n",
    "    .groupBy(\"weather\")\n",
    "    .agg(((sf.count(\"weather\")/90) * 100).alias(\"prct_weather\"))\n",
    ")\n",
    "t.show()\n",
    "# t.withColumn(\"prct_weather\", days/90*100).show()"
   ]
  },
  {
   "cell_type": "markdown",
   "id": "45ff4c40-6439-4056-8bda-af26700a20f4",
   "metadata": {},
   "source": [
    "    - For each year, find what percentage of days it rained (had non-zero precipitation)."
   ]
  },
  {
   "cell_type": "code",
   "execution_count": 185,
   "id": "862e0f13-6ed7-4a8d-8d30-1ab33c028850",
   "metadata": {},
   "outputs": [
    {
     "name": "stderr",
     "output_type": "stream",
     "text": [
      "[Stage 192:>                                                      (0 + 10) / 10]\r"
     ]
    },
    {
     "name": "stdout",
     "output_type": "stream",
     "text": [
      "+----+-----------------+\n",
      "|year|       prct_rainy|\n",
      "+----+-----------------+\n",
      "|2012|48.49315068493151|\n",
      "|2013|41.64383561643836|\n",
      "|2014| 41.0958904109589|\n",
      "|2015|39.45205479452055|\n",
      "+----+-----------------+\n",
      "\n"
     ]
    },
    {
     "name": "stderr",
     "output_type": "stream",
     "text": [
      "                                                                                \r"
     ]
    }
   ],
   "source": [
    "(\n",
    "    weather.withColumn(\"year\", sf.year(\"date\"))\n",
    "    .filter(weather.precipitation > 0)\n",
    "    .groupBy(\"year\")\n",
    "    .agg(((sf.count(\"date\")/365) * 100).alias(\"prct_rainy\"))\n",
    "    .show()\n",
    ")"
   ]
  }
 ],
 "metadata": {
  "kernelspec": {
   "display_name": "Python 3 (ipykernel)",
   "language": "python",
   "name": "python3"
  },
  "language_info": {
   "codemirror_mode": {
    "name": "ipython",
    "version": 3
   },
   "file_extension": ".py",
   "mimetype": "text/x-python",
   "name": "python",
   "nbconvert_exporter": "python",
   "pygments_lexer": "ipython3",
   "version": "3.9.12"
  }
 },
 "nbformat": 4,
 "nbformat_minor": 5
}
