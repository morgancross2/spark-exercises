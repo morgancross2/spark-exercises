{
 "cells": [
  {
   "cell_type": "markdown",
   "id": "ea3879fa",
   "metadata": {},
   "source": [
    "# Spark Data Wrangling"
   ]
  },
  {
   "cell_type": "code",
   "execution_count": 6,
   "id": "693fba94",
   "metadata": {},
   "outputs": [],
   "source": [
    "import pandas as pd\n",
    "\n",
    "import pyspark\n",
    "from pyspark.sql.functions import * \n",
    "\n",
    "from env import conn"
   ]
  },
  {
   "cell_type": "markdown",
   "id": "8f66c455",
   "metadata": {},
   "source": [
    "## Acquire"
   ]
  },
  {
   "cell_type": "code",
   "execution_count": 7,
   "id": "755438f6",
   "metadata": {},
   "outputs": [
    {
     "name": "stderr",
     "output_type": "stream",
     "text": [
      "Setting default log level to \"WARN\".\n",
      "To adjust logging level use sc.setLogLevel(newLevel). For SparkR, use setLogLevel(newLevel).\n"
     ]
    },
    {
     "name": "stdout",
     "output_type": "stream",
     "text": [
      "22/10/21 11:23:20 WARN NativeCodeLoader: Unable to load native-hadoop library for your platform... using builtin-java classes where applicable\n"
     ]
    }
   ],
   "source": [
    "#create enviroment\n",
    "spark = pyspark.sql.SparkSession.builder.getOrCreate()"
   ]
  },
  {
   "cell_type": "markdown",
   "id": "5ae2fc66",
   "metadata": {},
   "source": [
    "### load mpg data set from pydataset"
   ]
  },
  {
   "cell_type": "code",
   "execution_count": 8,
   "id": "9b7560bc",
   "metadata": {},
   "outputs": [],
   "source": [
    "from pydataset import data"
   ]
  },
  {
   "cell_type": "markdown",
   "id": "9eff71ae-817a-4dc0-b3f2-d3b6816f2e3d",
   "metadata": {},
   "source": []
  },
  {
   "cell_type": "code",
   "execution_count": 9,
   "id": "3e74c947",
   "metadata": {},
   "outputs": [],
   "source": [
    "mpg = spark.createDataFrame(data('mpg'))"
   ]
  },
  {
   "cell_type": "code",
   "execution_count": 10,
   "id": "b6a67f40-c033-49b4-a4f7-7e978c4239d2",
   "metadata": {},
   "outputs": [
    {
     "name": "stderr",
     "output_type": "stream",
     "text": [
      "[Stage 0:>                                                          (0 + 1) / 1]\r"
     ]
    },
    {
     "name": "stdout",
     "output_type": "stream",
     "text": [
      "+------------+-----+-----+----+---+----------+---+---+---+---+-------+\n",
      "|manufacturer|model|displ|year|cyl|     trans|drv|cty|hwy| fl|  class|\n",
      "+------------+-----+-----+----+---+----------+---+---+---+---+-------+\n",
      "|        audi|   a4|  1.8|1999|  4|  auto(l5)|  f| 18| 29|  p|compact|\n",
      "|        audi|   a4|  1.8|1999|  4|manual(m5)|  f| 21| 29|  p|compact|\n",
      "|        audi|   a4|  2.0|2008|  4|manual(m6)|  f| 20| 31|  p|compact|\n",
      "|        audi|   a4|  2.0|2008|  4|  auto(av)|  f| 21| 30|  p|compact|\n",
      "|        audi|   a4|  2.8|1999|  6|  auto(l5)|  f| 16| 26|  p|compact|\n",
      "+------------+-----+-----+----+---+----------+---+---+---+---+-------+\n",
      "only showing top 5 rows\n",
      "\n"
     ]
    },
    {
     "name": "stderr",
     "output_type": "stream",
     "text": [
      "                                                                                \r"
     ]
    }
   ],
   "source": [
    "mpg.show(5)"
   ]
  },
  {
   "cell_type": "markdown",
   "id": "b6b59db6",
   "metadata": {},
   "source": [
    "### write datafame to file"
   ]
  },
  {
   "cell_type": "markdown",
   "id": "30572adc",
   "metadata": {},
   "source": [
    "- `json`: for writing to a local json file(s)\n",
    "- `csv`: for writing to a local csv file(s)\n",
    "- `parquet`: Parquet is a very popular columnar storage format for Hadoop.\n",
    "- `jdbc`: for writing to a SQL database table"
   ]
  },
  {
   "cell_type": "markdown",
   "id": "74e8bbb4",
   "metadata": {},
   "source": [
    "#### write file to json"
   ]
  },
  {
   "cell_type": "code",
   "execution_count": 11,
   "id": "40f247a6",
   "metadata": {},
   "outputs": [
    {
     "name": "stderr",
     "output_type": "stream",
     "text": [
      "                                                                                \r"
     ]
    }
   ],
   "source": [
    "#df.write.type\n",
    "mpg.write.json('data/mpg_json')"
   ]
  },
  {
   "cell_type": "code",
   "execution_count": 12,
   "id": "d1e893c2",
   "metadata": {},
   "outputs": [],
   "source": [
    "import os"
   ]
  },
  {
   "cell_type": "code",
   "execution_count": 14,
   "id": "1b1521f6-4c2a-47af-b4ce-7c678cc1a407",
   "metadata": {},
   "outputs": [
    {
     "data": {
      "text/plain": [
       "['part-00008-3b747b95-14d0-46d0-8b16-6f546a652234-c000.json',\n",
       " 'part-00005-3b747b95-14d0-46d0-8b16-6f546a652234-c000.json',\n",
       " '.part-00002-3b747b95-14d0-46d0-8b16-6f546a652234-c000.json.crc',\n",
       " 'part-00000-3b747b95-14d0-46d0-8b16-6f546a652234-c000.json',\n",
       " '.part-00008-3b747b95-14d0-46d0-8b16-6f546a652234-c000.json.crc',\n",
       " '.part-00001-3b747b95-14d0-46d0-8b16-6f546a652234-c000.json.crc',\n",
       " 'part-00002-3b747b95-14d0-46d0-8b16-6f546a652234-c000.json',\n",
       " '._SUCCESS.crc',\n",
       " '.part-00006-3b747b95-14d0-46d0-8b16-6f546a652234-c000.json.crc',\n",
       " 'part-00007-3b747b95-14d0-46d0-8b16-6f546a652234-c000.json',\n",
       " '.part-00005-3b747b95-14d0-46d0-8b16-6f546a652234-c000.json.crc',\n",
       " 'part-00006-3b747b95-14d0-46d0-8b16-6f546a652234-c000.json',\n",
       " '.part-00003-3b747b95-14d0-46d0-8b16-6f546a652234-c000.json.crc',\n",
       " '.part-00009-3b747b95-14d0-46d0-8b16-6f546a652234-c000.json.crc',\n",
       " 'part-00003-3b747b95-14d0-46d0-8b16-6f546a652234-c000.json',\n",
       " '.part-00000-3b747b95-14d0-46d0-8b16-6f546a652234-c000.json.crc',\n",
       " '_SUCCESS',\n",
       " 'part-00001-3b747b95-14d0-46d0-8b16-6f546a652234-c000.json',\n",
       " '.part-00007-3b747b95-14d0-46d0-8b16-6f546a652234-c000.json.crc',\n",
       " 'part-00004-3b747b95-14d0-46d0-8b16-6f546a652234-c000.json',\n",
       " 'part-00009-3b747b95-14d0-46d0-8b16-6f546a652234-c000.json',\n",
       " '.part-00004-3b747b95-14d0-46d0-8b16-6f546a652234-c000.json.crc']"
      ]
     },
     "execution_count": 14,
     "metadata": {},
     "output_type": "execute_result"
    }
   ],
   "source": [
    "json_files = os.listdir('data/mpg_json/')\n",
    "json_files"
   ]
  },
  {
   "cell_type": "code",
   "execution_count": 16,
   "id": "c10d8629-07c4-42dd-aac2-ccb348c6861b",
   "metadata": {},
   "outputs": [],
   "source": [
    "json_files = [fn for fn in json_files if not fn.startswith('.')]"
   ]
  },
  {
   "cell_type": "markdown",
   "id": "bf08c75f",
   "metadata": {},
   "source": [
    "#### write dataframe to csv"
   ]
  },
  {
   "cell_type": "code",
   "execution_count": 32,
   "id": "21463422",
   "metadata": {},
   "outputs": [
    {
     "name": "stderr",
     "output_type": "stream",
     "text": [
      "                                                                                \r"
     ]
    }
   ],
   "source": [
    "#df.write.format()\n",
    "(\n",
    "    mpg.write.format('csv')\n",
    "    .option('header', 'True')\n",
    "    .mode('overwrite')\n",
    "    .save('data/mpg_csv')\n",
    ")"
   ]
  },
  {
   "cell_type": "code",
   "execution_count": 33,
   "id": "cf82b8ed",
   "metadata": {},
   "outputs": [],
   "source": [
    "csv_files = os.listdir('data/mpg_csv')"
   ]
  },
  {
   "cell_type": "code",
   "execution_count": 34,
   "id": "27218f85",
   "metadata": {},
   "outputs": [
    {
     "data": {
      "text/plain": [
       "['part-00002-12675834-c33b-452d-9235-9123f1b86cd2-c000.csv',\n",
       " 'part-00003-12675834-c33b-452d-9235-9123f1b86cd2-c000.csv',\n",
       " 'part-00000-12675834-c33b-452d-9235-9123f1b86cd2-c000.csv',\n",
       " 'part-00001-12675834-c33b-452d-9235-9123f1b86cd2-c000.csv',\n",
       " 'part-00006-12675834-c33b-452d-9235-9123f1b86cd2-c000.csv',\n",
       " 'part-00007-12675834-c33b-452d-9235-9123f1b86cd2-c000.csv',\n",
       " 'part-00008-12675834-c33b-452d-9235-9123f1b86cd2-c000.csv',\n",
       " '_SUCCESS',\n",
       " 'part-00004-12675834-c33b-452d-9235-9123f1b86cd2-c000.csv',\n",
       " 'part-00009-12675834-c33b-452d-9235-9123f1b86cd2-c000.csv',\n",
       " 'part-00005-12675834-c33b-452d-9235-9123f1b86cd2-c000.csv']"
      ]
     },
     "execution_count": 34,
     "metadata": {},
     "output_type": "execute_result"
    }
   ],
   "source": [
    "csv_files = [fn for fn in csv_files if not fn.startswith('.')]\n",
    "csv_files"
   ]
  },
  {
   "cell_type": "markdown",
   "id": "6b2b6a58",
   "metadata": {},
   "source": [
    "### read files\n",
    "- spark.read.[type]"
   ]
  },
  {
   "cell_type": "markdown",
   "id": "c057159b",
   "metadata": {},
   "source": [
    "#### read json"
   ]
  },
  {
   "cell_type": "code",
   "execution_count": 22,
   "id": "35dc9441",
   "metadata": {},
   "outputs": [
    {
     "name": "stderr",
     "output_type": "stream",
     "text": [
      "                                                                                \r"
     ]
    },
    {
     "name": "stdout",
     "output_type": "stream",
     "text": [
      "+-------+---+---+-----+---+---+---+------------+-----+----------+----+\n",
      "|  class|cty|cyl|displ|drv| fl|hwy|manufacturer|model|     trans|year|\n",
      "+-------+---+---+-----+---+---+---+------------+-----+----------+----+\n",
      "|compact| 21|  4|  2.0|  f|  r| 29|  volkswagen|  gti|manual(m5)|1999|\n",
      "+-------+---+---+-----+---+---+---+------------+-----+----------+----+\n",
      "only showing top 1 row\n",
      "\n"
     ]
    }
   ],
   "source": [
    "spark.read.json('data/mpg_json').show(1)"
   ]
  },
  {
   "cell_type": "code",
   "execution_count": 23,
   "id": "b1057440",
   "metadata": {},
   "outputs": [
    {
     "data": {
      "text/plain": [
       "234"
      ]
     },
     "execution_count": 23,
     "metadata": {},
     "output_type": "execute_result"
    }
   ],
   "source": [
    "spark.read.json('data/mpg_json').count()"
   ]
  },
  {
   "cell_type": "code",
   "execution_count": 26,
   "id": "3d21ade3-fc72-4f02-8a2c-37fcf75a723b",
   "metadata": {},
   "outputs": [
    {
     "name": "stdout",
     "output_type": "stream",
     "text": [
      "+-------+---+---+-----+---+---+---+------------+-----+----------+----+\n",
      "|  class|cty|cyl|displ|drv| fl|hwy|manufacturer|model|     trans|year|\n",
      "+-------+---+---+-----+---+---+---+------------+-----+----------+----+\n",
      "|compact| 21|  4|  2.0|  f|  r| 29|  volkswagen|  gti|manual(m5)|1999|\n",
      "|compact| 19|  4|  2.0|  f|  r| 26|  volkswagen|  gti|  auto(l4)|1999|\n",
      "|compact| 21|  4|  2.0|  f|  p| 29|  volkswagen|  gti|manual(m6)|2008|\n",
      "|compact| 22|  4|  2.0|  f|  p| 29|  volkswagen|  gti|  auto(s6)|2008|\n",
      "|compact| 17|  6|  2.8|  f|  r| 24|  volkswagen|  gti|manual(m5)|1999|\n",
      "|compact| 33|  4|  1.9|  f|  d| 44|  volkswagen|jetta|manual(m5)|1999|\n",
      "|compact| 21|  4|  2.0|  f|  r| 29|  volkswagen|jetta|manual(m5)|1999|\n",
      "|compact| 19|  4|  2.0|  f|  r| 26|  volkswagen|jetta|  auto(l4)|1999|\n",
      "|compact| 22|  4|  2.0|  f|  p| 29|  volkswagen|jetta|  auto(s6)|2008|\n",
      "|compact| 21|  4|  2.0|  f|  p| 29|  volkswagen|jetta|manual(m6)|2008|\n",
      "+-------+---+---+-----+---+---+---+------------+-----+----------+----+\n",
      "only showing top 10 rows\n",
      "\n"
     ]
    }
   ],
   "source": [
    "spark.read.json('data/mpg_json').show(10)"
   ]
  },
  {
   "cell_type": "markdown",
   "id": "e380e06a",
   "metadata": {},
   "source": [
    "#### read csv"
   ]
  },
  {
   "cell_type": "code",
   "execution_count": 35,
   "id": "e0260ab2",
   "metadata": {},
   "outputs": [
    {
     "data": {
      "text/plain": [
       "244"
      ]
     },
     "execution_count": 35,
     "metadata": {},
     "output_type": "execute_result"
    }
   ],
   "source": [
    "spark.read.csv('data/mpg_csv').count()"
   ]
  },
  {
   "cell_type": "code",
   "execution_count": 36,
   "id": "8b87f323",
   "metadata": {},
   "outputs": [
    {
     "name": "stdout",
     "output_type": "stream",
     "text": [
      "+------------+-----+-----+----+---+----------+---+---+---+---+-------+\n",
      "|         _c0|  _c1|  _c2| _c3|_c4|       _c5|_c6|_c7|_c8|_c9|   _c10|\n",
      "+------------+-----+-----+----+---+----------+---+---+---+---+-------+\n",
      "|manufacturer|model|displ|year|cyl|     trans|drv|cty|hwy| fl|  class|\n",
      "|  volkswagen|  gti|  2.0|1999|  4|manual(m5)|  f| 21| 29|  r|compact|\n",
      "|  volkswagen|  gti|  2.0|1999|  4|  auto(l4)|  f| 19| 26|  r|compact|\n",
      "|  volkswagen|  gti|  2.0|2008|  4|manual(m6)|  f| 21| 29|  p|compact|\n",
      "|  volkswagen|  gti|  2.0|2008|  4|  auto(s6)|  f| 22| 29|  p|compact|\n",
      "|  volkswagen|  gti|  2.8|1999|  6|manual(m5)|  f| 17| 24|  r|compact|\n",
      "|  volkswagen|jetta|  1.9|1999|  4|manual(m5)|  f| 33| 44|  d|compact|\n",
      "|  volkswagen|jetta|  2.0|1999|  4|manual(m5)|  f| 21| 29|  r|compact|\n",
      "|  volkswagen|jetta|  2.0|1999|  4|  auto(l4)|  f| 19| 26|  r|compact|\n",
      "|  volkswagen|jetta|  2.0|2008|  4|  auto(s6)|  f| 22| 29|  p|compact|\n",
      "+------------+-----+-----+----+---+----------+---+---+---+---+-------+\n",
      "only showing top 10 rows\n",
      "\n"
     ]
    }
   ],
   "source": [
    "# why are there 10 more lines??\n",
    "spark.read.csv('data/mpg_csv').show(10)"
   ]
  },
  {
   "cell_type": "code",
   "execution_count": 41,
   "id": "573d03d4-a77a-4649-b97e-48fb1a695d45",
   "metadata": {},
   "outputs": [
    {
     "name": "stdout",
     "output_type": "stream",
     "text": [
      "+------------+-----+-----+----+---+----------+---+---+---+---+-------+\n",
      "|manufacturer|model|displ|year|cyl|     trans|drv|cty|hwy| fl|  class|\n",
      "+------------+-----+-----+----+---+----------+---+---+---+---+-------+\n",
      "|  volkswagen|  gti|  2.0|1999|  4|manual(m5)|  f| 21| 29|  r|compact|\n",
      "|  volkswagen|  gti|  2.0|1999|  4|  auto(l4)|  f| 19| 26|  r|compact|\n",
      "|  volkswagen|  gti|  2.0|2008|  4|manual(m6)|  f| 21| 29|  p|compact|\n",
      "|  volkswagen|  gti|  2.0|2008|  4|  auto(s6)|  f| 22| 29|  p|compact|\n",
      "|  volkswagen|  gti|  2.8|1999|  6|manual(m5)|  f| 17| 24|  r|compact|\n",
      "+------------+-----+-----+----+---+----------+---+---+---+---+-------+\n",
      "only showing top 5 rows\n",
      "\n"
     ]
    }
   ],
   "source": [
    "(\n",
    "    spark.read.format('csv')\n",
    "    .option('header', True)\n",
    "    .load('data/mpg_csv')\n",
    ").show(5)"
   ]
  },
  {
   "cell_type": "code",
   "execution_count": 42,
   "id": "3844ad90-1aee-4235-a160-f86eba5e3791",
   "metadata": {},
   "outputs": [
    {
     "data": {
      "text/plain": [
       "234"
      ]
     },
     "execution_count": 42,
     "metadata": {},
     "output_type": "execute_result"
    }
   ],
   "source": [
    "(\n",
    "    spark.read.format('csv')\n",
    "    .option('header', True)\n",
    "    .load('data/mpg_csv')\n",
    ").count()"
   ]
  },
  {
   "cell_type": "markdown",
   "id": "c839b2a6",
   "metadata": {},
   "source": [
    "### load source from 311_data in sql"
   ]
  },
  {
   "cell_type": "code",
   "execution_count": 56,
   "id": "d3abd192",
   "metadata": {},
   "outputs": [],
   "source": [
    "#sql query\n",
    "url = conn('311_data')\n",
    "query = 'SELECT source_id, source_username FROM source'"
   ]
  },
  {
   "cell_type": "code",
   "execution_count": 46,
   "id": "017046b4",
   "metadata": {},
   "outputs": [],
   "source": [
    "#make pandas df\n",
    "pandas_df = pd.read_sql(query, url)"
   ]
  },
  {
   "cell_type": "code",
   "execution_count": 47,
   "id": "0e439361",
   "metadata": {},
   "outputs": [
    {
     "data": {
      "text/plain": [
       "DataFrame[source_id: string, source_username: string]"
      ]
     },
     "execution_count": 47,
     "metadata": {},
     "output_type": "execute_result"
    }
   ],
   "source": [
    "#create spark df\n",
    "sources = spark.createDataFrame(pandas_df)\n",
    "sources"
   ]
  },
  {
   "cell_type": "code",
   "execution_count": 48,
   "id": "23c097d7",
   "metadata": {},
   "outputs": [
    {
     "name": "stdout",
     "output_type": "stream",
     "text": [
      "+---------+----------------+\n",
      "|source_id| source_username|\n",
      "+---------+----------------+\n",
      "|   100137|Merlene Blodgett|\n",
      "|   103582|     Carmen Cura|\n",
      "|   106463| Richard Sanchez|\n",
      "|   119403|  Betty De Hoyos|\n",
      "|   119555|  Socorro Quiara|\n",
      "+---------+----------------+\n",
      "only showing top 5 rows\n",
      "\n"
     ]
    }
   ],
   "source": [
    "sources.show(5)"
   ]
  },
  {
   "cell_type": "markdown",
   "id": "a98562d5",
   "metadata": {},
   "source": [
    "### data schema"
   ]
  },
  {
   "cell_type": "code",
   "execution_count": 49,
   "id": "4f54e6fb",
   "metadata": {},
   "outputs": [
    {
     "data": {
      "text/plain": [
       "StructType([StructField('source_id', StringType(), True), StructField('source_username', StringType(), True)])"
      ]
     },
     "execution_count": 49,
     "metadata": {},
     "output_type": "execute_result"
    }
   ],
   "source": [
    "sources.schema"
   ]
  },
  {
   "cell_type": "code",
   "execution_count": 50,
   "id": "5d491717",
   "metadata": {},
   "outputs": [],
   "source": [
    "from pyspark.sql.types import StructType, StructField, StringType"
   ]
  },
  {
   "cell_type": "code",
   "execution_count": 52,
   "id": "73739506",
   "metadata": {},
   "outputs": [
    {
     "data": {
      "text/plain": [
       "StructType([StructField('source_id', StringType(), True), StructField('source_username', StringType(), True)])"
      ]
     },
     "execution_count": 52,
     "metadata": {},
     "output_type": "execute_result"
    }
   ],
   "source": [
    "#use structype to build a list of the structfield with the columns assocaited schema\n",
    "schema = StructType(\n",
    "    [\n",
    "        StructField('source_id', StringType()),\n",
    "        StructField('source_username', StringType())\n",
    "    ]\n",
    ")\n",
    "schema"
   ]
  },
  {
   "cell_type": "code",
   "execution_count": 53,
   "id": "bbfef215-bd34-424b-901b-16285cf6843f",
   "metadata": {},
   "outputs": [
    {
     "name": "stdout",
     "output_type": "stream",
     "text": [
      "18.9 ms ± 6.06 ms per loop (mean ± std. dev. of 7 runs, 10 loops each)\n"
     ]
    }
   ],
   "source": [
    "%%timeit\n",
    "spark.createDataFrame(pandas_df, schema=schema)"
   ]
  },
  {
   "cell_type": "code",
   "execution_count": 54,
   "id": "8370be01-5318-42d8-8196-ea500682fec2",
   "metadata": {},
   "outputs": [
    {
     "name": "stdout",
     "output_type": "stream",
     "text": [
      "12.4 ms ± 1.17 ms per loop (mean ± std. dev. of 7 runs, 100 loops each)\n"
     ]
    }
   ],
   "source": [
    "%%timeit\n",
    "spark.createDataFrame(pandas_df)"
   ]
  },
  {
   "cell_type": "markdown",
   "id": "5769739f",
   "metadata": {},
   "source": [
    "### load cases from 311_data from sql"
   ]
  },
  {
   "cell_type": "code",
   "execution_count": 63,
   "id": "54618aed",
   "metadata": {},
   "outputs": [],
   "source": [
    "#sql query\n",
    "url = conn('311_data')\n",
    "q = 'SELECT * FROM cases LIMIT 100000'"
   ]
  },
  {
   "cell_type": "code",
   "execution_count": 64,
   "id": "77ee891f",
   "metadata": {},
   "outputs": [],
   "source": [
    "#pandas df\n",
    "pandas_df = pd.read_sql(q, url)"
   ]
  },
  {
   "cell_type": "code",
   "execution_count": 65,
   "id": "cbb9b4e0",
   "metadata": {},
   "outputs": [
    {
     "data": {
      "text/plain": [
       "DataFrame[case_id: bigint, case_opened_date: string, case_closed_date: string, SLA_due_date: string, case_late: string, num_days_late: double, case_closed: string, dept_division: string, service_request_type: string, SLA_days: double, case_status: string, source_id: string, request_address: string, council_district: bigint]"
      ]
     },
     "execution_count": 65,
     "metadata": {},
     "output_type": "execute_result"
    }
   ],
   "source": [
    "#spark df\n",
    "df = spark.createDataFrame(pandas_df)\n",
    "df"
   ]
  },
  {
   "cell_type": "code",
   "execution_count": 68,
   "id": "6138a0da",
   "metadata": {},
   "outputs": [
    {
     "name": "stdout",
     "output_type": "stream",
     "text": [
      "22/10/21 11:52:46 WARN TaskSetManager: Stage 41 contains a task of very large size (1653 KiB). The maximum recommended task size is 1000 KiB.\n",
      "-RECORD 0----------------------------------------------------\n",
      " case_id              | 1014127332                           \n",
      " case_opened_date     | 1/1/18 0:42                          \n",
      " case_closed_date     | 1/1/18 12:29                         \n",
      " SLA_due_date         | 9/26/20 0:42                         \n",
      " case_late            | NO                                   \n",
      " num_days_late        | -998.5087616                         \n",
      " case_closed          | YES                                  \n",
      " dept_division        | Field Operations                     \n",
      " service_request_type | Stray Animal                         \n",
      " SLA_days             | 999.0                                \n",
      " case_status          | Closed                               \n",
      " source_id            | svcCRMLS                             \n",
      " request_address      | 2315  EL PASO ST, San Antonio, 78207 \n",
      " council_district     | 5                                    \n",
      "only showing top 1 row\n",
      "\n"
     ]
    }
   ],
   "source": [
    "df.show(1, vertical=True, truncate=False)"
   ]
  },
  {
   "cell_type": "code",
   "execution_count": 70,
   "id": "91ebdc6c",
   "metadata": {},
   "outputs": [
    {
     "name": "stdout",
     "output_type": "stream",
     "text": [
      "root\n",
      " |-- case_id: long (nullable = true)\n",
      " |-- case_opened_date: string (nullable = true)\n",
      " |-- case_closed_date: string (nullable = true)\n",
      " |-- SLA_due_date: string (nullable = true)\n",
      " |-- case_late: string (nullable = true)\n",
      " |-- num_days_late: double (nullable = true)\n",
      " |-- case_closed: string (nullable = true)\n",
      " |-- dept_division: string (nullable = true)\n",
      " |-- service_request_type: string (nullable = true)\n",
      " |-- SLA_days: double (nullable = true)\n",
      " |-- case_status: string (nullable = true)\n",
      " |-- source_id: string (nullable = true)\n",
      " |-- request_address: string (nullable = true)\n",
      " |-- council_district: long (nullable = true)\n",
      "\n"
     ]
    }
   ],
   "source": [
    "df.printSchema()"
   ]
  },
  {
   "cell_type": "markdown",
   "id": "9df26f2f",
   "metadata": {},
   "source": [
    "## Prepare"
   ]
  },
  {
   "cell_type": "markdown",
   "id": "44c3f40e",
   "metadata": {},
   "source": [
    "- rename columns\n",
    "- correct datatypes\n",
    "- data transformation\n",
    "- make new features\n",
    "- join tables"
   ]
  },
  {
   "cell_type": "markdown",
   "id": "a0aec4fe",
   "metadata": {},
   "source": [
    "### rename columns"
   ]
  },
  {
   "cell_type": "code",
   "execution_count": 71,
   "id": "fd876bd5",
   "metadata": {},
   "outputs": [
    {
     "data": {
      "text/plain": [
       "['case_id',\n",
       " 'case_opened_date',\n",
       " 'case_closed_date',\n",
       " 'SLA_due_date',\n",
       " 'case_late',\n",
       " 'num_days_late',\n",
       " 'case_closed',\n",
       " 'dept_division',\n",
       " 'service_request_type',\n",
       " 'SLA_days',\n",
       " 'case_status',\n",
       " 'source_id',\n",
       " 'request_address',\n",
       " 'council_district']"
      ]
     },
     "execution_count": 71,
     "metadata": {},
     "output_type": "execute_result"
    }
   ],
   "source": [
    "df.columns"
   ]
  },
  {
   "cell_type": "markdown",
   "id": "0a5929b1",
   "metadata": {},
   "source": [
    "#### change SLA_due_date to case_due_date"
   ]
  },
  {
   "cell_type": "code",
   "execution_count": 72,
   "id": "3d8f42b2-e32b-43a9-8ca4-ebe12b3d1090",
   "metadata": {},
   "outputs": [],
   "source": [
    "df = df.withColumnRenamed('SLA_due_date', 'case_due_date')"
   ]
  },
  {
   "cell_type": "markdown",
   "id": "a98297cf",
   "metadata": {},
   "source": [
    "### correct datatypes"
   ]
  },
  {
   "cell_type": "code",
   "execution_count": 74,
   "id": "21141fd8",
   "metadata": {},
   "outputs": [
    {
     "name": "stdout",
     "output_type": "stream",
     "text": [
      "22/10/21 12:06:37 WARN TaskSetManager: Stage 42 contains a task of very large size (1653 KiB). The maximum recommended task size is 1000 KiB.\n",
      "-RECORD 0----------------------------------------------------\n",
      " case_id              | 1014127332                           \n",
      " case_opened_date     | 1/1/18 0:42                          \n",
      " case_closed_date     | 1/1/18 12:29                         \n",
      " case_due_date        | 9/26/20 0:42                         \n",
      " case_late            | NO                                   \n",
      " num_days_late        | -998.5087616                         \n",
      " case_closed          | YES                                  \n",
      " dept_division        | Field Operations                     \n",
      " service_request_type | Stray Animal                         \n",
      " SLA_days             | 999.0                                \n",
      " case_status          | Closed                               \n",
      " source_id            | svcCRMLS                             \n",
      " request_address      | 2315  EL PASO ST, San Antonio, 78207 \n",
      " council_district     | 5                                    \n",
      "only showing top 1 row\n",
      "\n"
     ]
    }
   ],
   "source": [
    "df.show(1, vertical=True, truncate=False)"
   ]
  },
  {
   "cell_type": "code",
   "execution_count": 75,
   "id": "1a0f5ae8",
   "metadata": {},
   "outputs": [
    {
     "data": {
      "text/plain": [
       "[('case_id', 'bigint'),\n",
       " ('case_opened_date', 'string'),\n",
       " ('case_closed_date', 'string'),\n",
       " ('case_due_date', 'string'),\n",
       " ('case_late', 'string'),\n",
       " ('num_days_late', 'double'),\n",
       " ('case_closed', 'string'),\n",
       " ('dept_division', 'string'),\n",
       " ('service_request_type', 'string'),\n",
       " ('SLA_days', 'double'),\n",
       " ('case_status', 'string'),\n",
       " ('source_id', 'string'),\n",
       " ('request_address', 'string'),\n",
       " ('council_district', 'bigint')]"
      ]
     },
     "execution_count": 75,
     "metadata": {},
     "output_type": "execute_result"
    }
   ],
   "source": [
    "df.dtypes"
   ]
  },
  {
   "cell_type": "markdown",
   "id": "50584b86",
   "metadata": {},
   "source": [
    "#### change close_closed and case_late columns into boolean values"
   ]
  },
  {
   "cell_type": "code",
   "execution_count": 76,
   "id": "33b25ca5",
   "metadata": {},
   "outputs": [
    {
     "name": "stdout",
     "output_type": "stream",
     "text": [
      "22/10/21 12:08:07 WARN TaskSetManager: Stage 43 contains a task of very large size (1653 KiB). The maximum recommended task size is 1000 KiB.\n"
     ]
    },
    {
     "name": "stderr",
     "output_type": "stream",
     "text": [
      "[Stage 43:>                                                       (0 + 10) / 10]\r"
     ]
    },
    {
     "name": "stdout",
     "output_type": "stream",
     "text": [
      "+-----------+\n",
      "|case_closed|\n",
      "+-----------+\n",
      "|        YES|\n",
      "|         NO|\n",
      "+-----------+\n",
      "\n"
     ]
    },
    {
     "name": "stderr",
     "output_type": "stream",
     "text": [
      "                                                                                \r"
     ]
    }
   ],
   "source": [
    "df.select('case_closed').distinct().show()"
   ]
  },
  {
   "cell_type": "code",
   "execution_count": 77,
   "id": "2602ba56-1705-4761-a33a-c1529eceebc2",
   "metadata": {},
   "outputs": [
    {
     "name": "stdout",
     "output_type": "stream",
     "text": [
      "22/10/21 12:08:31 WARN TaskSetManager: Stage 46 contains a task of very large size (1653 KiB). The maximum recommended task size is 1000 KiB.\n"
     ]
    },
    {
     "name": "stderr",
     "output_type": "stream",
     "text": [
      "[Stage 46:>                                                       (0 + 10) / 10]\r"
     ]
    },
    {
     "name": "stdout",
     "output_type": "stream",
     "text": [
      "+---------+\n",
      "|case_late|\n",
      "+---------+\n",
      "|      YES|\n",
      "|       NO|\n",
      "+---------+\n",
      "\n"
     ]
    },
    {
     "name": "stderr",
     "output_type": "stream",
     "text": [
      "                                                                                \r"
     ]
    }
   ],
   "source": [
    "df.select('case_late').distinct().show()"
   ]
  },
  {
   "cell_type": "code",
   "execution_count": 80,
   "id": "1d0ef91b",
   "metadata": {},
   "outputs": [
    {
     "name": "stdout",
     "output_type": "stream",
     "text": [
      "22/10/21 12:10:45 WARN TaskSetManager: Stage 53 contains a task of very large size (1653 KiB). The maximum recommended task size is 1000 KiB.\n"
     ]
    },
    {
     "name": "stderr",
     "output_type": "stream",
     "text": [
      "[Stage 53:>                                                       (0 + 10) / 10]\r"
     ]
    },
    {
     "name": "stdout",
     "output_type": "stream",
     "text": [
      "+-----------+\n",
      "|case_closed|\n",
      "+-----------+\n",
      "|       true|\n",
      "|      false|\n",
      "+-----------+\n",
      "\n"
     ]
    },
    {
     "name": "stderr",
     "output_type": "stream",
     "text": [
      "                                                                                \r"
     ]
    }
   ],
   "source": [
    "#use condition to make true and false\n",
    "df.withColumn('case_closed',\n",
    "             expr('case_closed ==\"YES\"')\n",
    "             ).select('case_closed').distinct().show()"
   ]
  },
  {
   "cell_type": "code",
   "execution_count": 82,
   "id": "9e576a60",
   "metadata": {},
   "outputs": [],
   "source": [
    "df = df.withColumn('case_closed',\n",
    "             expr('case_closed ==\"YES\"')\n",
    "             ).withColumn('case_late',\n",
    "                         expr('case_late == \"YES\"'))"
   ]
  },
  {
   "cell_type": "code",
   "execution_count": 84,
   "id": "b4dc2f30-75f6-4b93-a011-9bfa33e7f306",
   "metadata": {},
   "outputs": [
    {
     "name": "stdout",
     "output_type": "stream",
     "text": [
      "22/10/21 12:14:49 WARN TaskSetManager: Stage 57 contains a task of very large size (1653 KiB). The maximum recommended task size is 1000 KiB.\n"
     ]
    },
    {
     "name": "stderr",
     "output_type": "stream",
     "text": [
      "[Stage 57:>                                                       (0 + 10) / 10]\r"
     ]
    },
    {
     "name": "stdout",
     "output_type": "stream",
     "text": [
      "+-----------+---------+\n",
      "|case_closed|case_late|\n",
      "+-----------+---------+\n",
      "|       true|    false|\n",
      "|       true|     true|\n",
      "|      false|    false|\n",
      "|      false|     true|\n",
      "+-----------+---------+\n",
      "\n"
     ]
    },
    {
     "name": "stderr",
     "output_type": "stream",
     "text": [
      "                                                                                \r"
     ]
    }
   ],
   "source": [
    "df.select('case_closed', 'case_late').distinct().show(5)"
   ]
  },
  {
   "cell_type": "markdown",
   "id": "3c65df82",
   "metadata": {
    "tags": []
   },
   "source": [
    "#### change council_district datatype to string"
   ]
  },
  {
   "cell_type": "code",
   "execution_count": 86,
   "id": "50cdd074",
   "metadata": {},
   "outputs": [
    {
     "name": "stdout",
     "output_type": "stream",
     "text": [
      "22/10/21 12:15:50 WARN TaskSetManager: Stage 63 contains a task of very large size (1653 KiB). The maximum recommended task size is 1000 KiB.\n"
     ]
    },
    {
     "name": "stderr",
     "output_type": "stream",
     "text": [
      "[Stage 63:>                                                       (0 + 10) / 10]\r"
     ]
    },
    {
     "name": "stdout",
     "output_type": "stream",
     "text": [
      "+----------------+-----+\n",
      "|council_district|count|\n",
      "+----------------+-----+\n",
      "|               0|  511|\n",
      "|               7| 8010|\n",
      "|               6| 8385|\n",
      "|               9| 4773|\n",
      "|               5|13404|\n",
      "|               1|14640|\n",
      "|              10| 6888|\n",
      "|               3|11813|\n",
      "|               8| 4980|\n",
      "|               2|13619|\n",
      "|               4|12977|\n",
      "+----------------+-----+\n",
      "\n"
     ]
    },
    {
     "name": "stderr",
     "output_type": "stream",
     "text": [
      "                                                                                \r"
     ]
    }
   ],
   "source": [
    "df.groupby('council_district').count().show()"
   ]
  },
  {
   "cell_type": "code",
   "execution_count": 88,
   "id": "00df57f9",
   "metadata": {},
   "outputs": [],
   "source": [
    "#use .cast()\n",
    "df = df.withColumn('council_district',\n",
    "             col('council_district').cast('string')\n",
    "             )"
   ]
  },
  {
   "cell_type": "markdown",
   "id": "e7d21ecb",
   "metadata": {},
   "source": [
    "#### change dates to datetype"
   ]
  },
  {
   "cell_type": "code",
   "execution_count": 90,
   "id": "2f03aca2",
   "metadata": {},
   "outputs": [
    {
     "name": "stdout",
     "output_type": "stream",
     "text": [
      "22/10/21 12:18:27 WARN TaskSetManager: Stage 66 contains a task of very large size (1653 KiB). The maximum recommended task size is 1000 KiB.\n",
      "+----------------+----------------+-------------+\n",
      "|case_opened_date|case_closed_date|case_due_date|\n",
      "+----------------+----------------+-------------+\n",
      "|     1/1/18 0:42|    1/1/18 12:29| 9/26/20 0:42|\n",
      "|     1/1/18 0:46|     1/3/18 8:11|  1/5/18 8:30|\n",
      "|     1/1/18 0:48|     1/2/18 7:57|  1/5/18 8:30|\n",
      "|     1/1/18 1:29|     1/2/18 8:13| 1/17/18 8:30|\n",
      "|     1/1/18 1:34|    1/1/18 13:29|  1/1/18 4:34|\n",
      "+----------------+----------------+-------------+\n",
      "only showing top 5 rows\n",
      "\n"
     ]
    }
   ],
   "source": [
    "df.select('case_opened_date', 'case_closed_date', 'case_due_date').show(5)"
   ]
  },
  {
   "cell_type": "markdown",
   "id": "91d94432",
   "metadata": {},
   "source": [
    "format date strings: https://docs.oracle.com/javase/10/docs/api/java/time/format/DateTimeFormatter.html"
   ]
  },
  {
   "cell_type": "code",
   "execution_count": 93,
   "id": "2d78225b-c4b8-4075-9aab-6d8336e49e97",
   "metadata": {},
   "outputs": [
    {
     "name": "stdout",
     "output_type": "stream",
     "text": [
      "22/10/21 12:21:08 WARN TaskSetManager: Stage 68 contains a task of very large size (1653 KiB). The maximum recommended task size is 1000 KiB.\n",
      "+----------------+\n",
      "|case_opened_date|\n",
      "+----------------+\n",
      "|            null|\n",
      "|            null|\n",
      "|            null|\n",
      "|            null|\n",
      "|            null|\n",
      "+----------------+\n",
      "only showing top 5 rows\n",
      "\n"
     ]
    }
   ],
   "source": [
    "df.withColumn('case_opened_date', to_timestamp('case_opened_date')).select('case_opened_date').show(5)"
   ]
  },
  {
   "cell_type": "code",
   "execution_count": 94,
   "id": "f7ba0c03",
   "metadata": {},
   "outputs": [
    {
     "name": "stdout",
     "output_type": "stream",
     "text": [
      "22/10/21 12:21:09 WARN TaskSetManager: Stage 69 contains a task of very large size (1653 KiB). The maximum recommended task size is 1000 KiB.\n",
      "+-------------------+\n",
      "|   case_opened_date|\n",
      "+-------------------+\n",
      "|2018-01-01 00:42:00|\n",
      "|2018-01-01 00:46:00|\n",
      "|2018-01-01 00:48:00|\n",
      "|2018-01-01 01:29:00|\n",
      "|2018-01-01 01:34:00|\n",
      "+-------------------+\n",
      "only showing top 5 rows\n",
      "\n"
     ]
    }
   ],
   "source": [
    "fmt = 'M/d/yy H:m'\n",
    "df.withColumn('case_opened_date', to_timestamp('case_opened_date', fmt)).select('case_opened_date').show(5)"
   ]
  },
  {
   "cell_type": "code",
   "execution_count": 96,
   "id": "0ad81589",
   "metadata": {},
   "outputs": [],
   "source": [
    "#use to_timestamp\n",
    "df = (\n",
    "    df.withColumn('case_opened_date', to_timestamp('case_opened_date', fmt))\n",
    "    .withColumn('case_closed_date', to_timestamp('case_closed_date', fmt))\n",
    "    .withColumn('case_due_date', to_timestamp('case_due_date', fmt))\n",
    ")"
   ]
  },
  {
   "cell_type": "code",
   "execution_count": 97,
   "id": "90dc6b6b",
   "metadata": {},
   "outputs": [
    {
     "data": {
      "text/plain": [
       "[('case_id', 'bigint'),\n",
       " ('case_opened_date', 'timestamp'),\n",
       " ('case_closed_date', 'timestamp'),\n",
       " ('case_due_date', 'timestamp'),\n",
       " ('case_late', 'boolean'),\n",
       " ('num_days_late', 'double'),\n",
       " ('case_closed', 'boolean'),\n",
       " ('dept_division', 'string'),\n",
       " ('service_request_type', 'string'),\n",
       " ('SLA_days', 'double'),\n",
       " ('case_status', 'string'),\n",
       " ('source_id', 'string'),\n",
       " ('request_address', 'string'),\n",
       " ('council_district', 'string')]"
      ]
     },
     "execution_count": 97,
     "metadata": {},
     "output_type": "execute_result"
    }
   ],
   "source": [
    "df.dtypes"
   ]
  },
  {
   "cell_type": "markdown",
   "id": "4cbca0fd",
   "metadata": {},
   "source": [
    "### data transformation"
   ]
  },
  {
   "cell_type": "markdown",
   "id": "86cd01a0",
   "metadata": {},
   "source": [
    "#### normalize address\n",
    "- `lower`: lowercase everything\n",
    "- `trim`: remove whitespace on the edges "
   ]
  },
  {
   "cell_type": "code",
   "execution_count": 98,
   "id": "c0140b09",
   "metadata": {},
   "outputs": [
    {
     "name": "stdout",
     "output_type": "stream",
     "text": [
      "22/10/21 12:25:27 WARN TaskSetManager: Stage 70 contains a task of very large size (1653 KiB). The maximum recommended task size is 1000 KiB.\n",
      "+-------------------------------------+\n",
      "|request_address                      |\n",
      "+-------------------------------------+\n",
      "|2315  EL PASO ST, San Antonio, 78207 |\n",
      "|2215  GOLIAD RD, San Antonio, 78223  |\n",
      "|102  PALFREY ST W, San Antonio, 78223|\n",
      "|114  LA GARDE ST, San Antonio, 78223 |\n",
      "|734  CLEARVIEW DR, San Antonio, 78228|\n",
      "+-------------------------------------+\n",
      "only showing top 5 rows\n",
      "\n"
     ]
    }
   ],
   "source": [
    "df.select('request_address').show(5, truncate=False)"
   ]
  },
  {
   "cell_type": "code",
   "execution_count": 100,
   "id": "7f8d5914",
   "metadata": {},
   "outputs": [
    {
     "name": "stdout",
     "output_type": "stream",
     "text": [
      "22/10/21 12:26:50 WARN TaskSetManager: Stage 72 contains a task of very large size (1653 KiB). The maximum recommended task size is 1000 KiB.\n",
      "+--------------------+\n",
      "|     request_address|\n",
      "+--------------------+\n",
      "|2315  el paso st,...|\n",
      "|2215  goliad rd, ...|\n",
      "|102  palfrey st w...|\n",
      "|114  la garde st,...|\n",
      "|734  clearview dr...|\n",
      "+--------------------+\n",
      "only showing top 5 rows\n",
      "\n"
     ]
    }
   ],
   "source": [
    "df.withColumn('request_address',\n",
    "              trim(lower('request_address'))).select('request_address').show(5)"
   ]
  },
  {
   "cell_type": "code",
   "execution_count": 102,
   "id": "fc7b460d",
   "metadata": {},
   "outputs": [
    {
     "name": "stdout",
     "output_type": "stream",
     "text": [
      "22/10/21 12:27:52 WARN TaskSetManager: Stage 74 contains a task of very large size (1653 KiB). The maximum recommended task size is 1000 KiB.\n",
      "+-------------------------------------+\n",
      "|request_address                      |\n",
      "+-------------------------------------+\n",
      "|2315  el paso st, san antonio, 78207 |\n",
      "|2215  goliad rd, san antonio, 78223  |\n",
      "|102  palfrey st w, san antonio, 78223|\n",
      "|114  la garde st, san antonio, 78223 |\n",
      "|734  clearview dr, san antonio, 78228|\n",
      "+-------------------------------------+\n",
      "only showing top 5 rows\n",
      "\n"
     ]
    }
   ],
   "source": [
    "df = df.withColumn('request_address',\n",
    "              trim(lower('request_address')))\n",
    "df.select('request_address').show(5, truncate=False)"
   ]
  },
  {
   "cell_type": "markdown",
   "id": "d56bd761",
   "metadata": {},
   "source": [
    "#### change num_days_late to num_weeks_late"
   ]
  },
  {
   "cell_type": "code",
   "execution_count": 103,
   "id": "80600520",
   "metadata": {},
   "outputs": [
    {
     "name": "stdout",
     "output_type": "stream",
     "text": [
      "22/10/21 13:33:13 WARN TaskSetManager: Stage 75 contains a task of very large size (1653 KiB). The maximum recommended task size is 1000 KiB.\n",
      "+-------------+\n",
      "|num_days_late|\n",
      "+-------------+\n",
      "| -998.5087616|\n",
      "| -2.012604167|\n",
      "| -3.022337963|\n",
      "| -15.01148148|\n",
      "|  0.372164352|\n",
      "+-------------+\n",
      "only showing top 5 rows\n",
      "\n"
     ]
    }
   ],
   "source": [
    "df.select('num_days_late').show(5)"
   ]
  },
  {
   "cell_type": "code",
   "execution_count": 105,
   "id": "9488dc43",
   "metadata": {},
   "outputs": [],
   "source": [
    "df = df.withColumn('num_weeks_late', expr('num_days_late / 7'))"
   ]
  },
  {
   "cell_type": "code",
   "execution_count": 106,
   "id": "88d989cf",
   "metadata": {},
   "outputs": [
    {
     "name": "stdout",
     "output_type": "stream",
     "text": [
      "22/10/21 13:34:55 WARN TaskSetManager: Stage 77 contains a task of very large size (1653 KiB). The maximum recommended task size is 1000 KiB.\n",
      "+-------------+--------------------+\n",
      "|num_days_late|      num_weeks_late|\n",
      "+-------------+--------------------+\n",
      "| -998.5087616|        -142.6441088|\n",
      "| -2.012604167|        -0.287514881|\n",
      "| -3.022337963|-0.43176256614285713|\n",
      "| -15.01148148| -2.1444973542857144|\n",
      "|  0.372164352|0.053166335999999995|\n",
      "+-------------+--------------------+\n",
      "only showing top 5 rows\n",
      "\n"
     ]
    }
   ],
   "source": [
    "df.select('num_days_late', 'num_weeks_late').show(5)"
   ]
  },
  {
   "cell_type": "markdown",
   "id": "201bc28f",
   "metadata": {},
   "source": [
    "#### change council_district to int and pad with 00s"
   ]
  },
  {
   "cell_type": "code",
   "execution_count": 107,
   "id": "09e2aff0",
   "metadata": {},
   "outputs": [
    {
     "name": "stdout",
     "output_type": "stream",
     "text": [
      "22/10/21 13:37:34 WARN TaskSetManager: Stage 78 contains a task of very large size (1653 KiB). The maximum recommended task size is 1000 KiB.\n",
      "+----------------+\n",
      "|council_district|\n",
      "+----------------+\n",
      "|               5|\n",
      "|               3|\n",
      "|               3|\n",
      "|               3|\n",
      "|               7|\n",
      "|               7|\n",
      "|               4|\n",
      "|               4|\n",
      "|               4|\n",
      "|               4|\n",
      "|               4|\n",
      "|               4|\n",
      "|               4|\n",
      "|               4|\n",
      "|               4|\n",
      "|               4|\n",
      "|               4|\n",
      "|               4|\n",
      "|               4|\n",
      "|               4|\n",
      "+----------------+\n",
      "only showing top 20 rows\n",
      "\n"
     ]
    }
   ],
   "source": [
    "df.select('council_district').show()"
   ]
  },
  {
   "cell_type": "code",
   "execution_count": 110,
   "id": "5a37e22c",
   "metadata": {},
   "outputs": [
    {
     "name": "stdout",
     "output_type": "stream",
     "text": [
      "22/10/21 13:38:43 WARN TaskSetManager: Stage 81 contains a task of very large size (1653 KiB). The maximum recommended task size is 1000 KiB.\n",
      "+----------------+\n",
      "|council_district|\n",
      "+----------------+\n",
      "|             005|\n",
      "|             003|\n",
      "|             003|\n",
      "|             003|\n",
      "|             007|\n",
      "+----------------+\n",
      "only showing top 5 rows\n",
      "\n"
     ]
    }
   ],
   "source": [
    "# '%03d' means at least 3 digits, pad with 0s\n",
    "df.withColumn('council_district',\n",
    "             format_string('%03d', col('council_district').cast('int'))).select('council_district').show(5)"
   ]
  },
  {
   "cell_type": "code",
   "execution_count": 111,
   "id": "fca73a76",
   "metadata": {},
   "outputs": [
    {
     "data": {
      "text/plain": [
       "[('case_id', 'bigint'),\n",
       " ('case_opened_date', 'timestamp'),\n",
       " ('case_closed_date', 'timestamp'),\n",
       " ('case_due_date', 'timestamp'),\n",
       " ('case_late', 'boolean'),\n",
       " ('num_days_late', 'double'),\n",
       " ('case_closed', 'boolean'),\n",
       " ('dept_division', 'string'),\n",
       " ('service_request_type', 'string'),\n",
       " ('SLA_days', 'double'),\n",
       " ('case_status', 'string'),\n",
       " ('source_id', 'string'),\n",
       " ('request_address', 'string'),\n",
       " ('council_district', 'string'),\n",
       " ('num_weeks_late', 'double')]"
      ]
     },
     "execution_count": 111,
     "metadata": {},
     "output_type": "execute_result"
    }
   ],
   "source": [
    "df.dtypes"
   ]
  },
  {
   "cell_type": "markdown",
   "id": "37ecc429",
   "metadata": {},
   "source": [
    "### new features"
   ]
  },
  {
   "cell_type": "code",
   "execution_count": 112,
   "id": "91b1028a",
   "metadata": {},
   "outputs": [
    {
     "data": {
      "text/plain": [
       "['case_id',\n",
       " 'case_opened_date',\n",
       " 'case_closed_date',\n",
       " 'case_due_date',\n",
       " 'case_late',\n",
       " 'num_days_late',\n",
       " 'case_closed',\n",
       " 'dept_division',\n",
       " 'service_request_type',\n",
       " 'SLA_days',\n",
       " 'case_status',\n",
       " 'source_id',\n",
       " 'request_address',\n",
       " 'council_district',\n",
       " 'num_weeks_late']"
      ]
     },
     "execution_count": 112,
     "metadata": {},
     "output_type": "execute_result"
    }
   ],
   "source": [
    "df.columns"
   ]
  },
  {
   "cell_type": "markdown",
   "id": "7059b9f5",
   "metadata": {},
   "source": [
    "#### create zip code column"
   ]
  },
  {
   "cell_type": "code",
   "execution_count": 113,
   "id": "6754c27b",
   "metadata": {},
   "outputs": [
    {
     "name": "stdout",
     "output_type": "stream",
     "text": [
      "22/10/21 13:42:22 WARN TaskSetManager: Stage 82 contains a task of very large size (1653 KiB). The maximum recommended task size is 1000 KiB.\n",
      "+-------------------------------------+\n",
      "|request_address                      |\n",
      "+-------------------------------------+\n",
      "|2315  el paso st, san antonio, 78207 |\n",
      "|2215  goliad rd, san antonio, 78223  |\n",
      "|102  palfrey st w, san antonio, 78223|\n",
      "|114  la garde st, san antonio, 78223 |\n",
      "|734  clearview dr, san antonio, 78228|\n",
      "+-------------------------------------+\n",
      "only showing top 5 rows\n",
      "\n"
     ]
    }
   ],
   "source": [
    "df.select('request_address').show(5, truncate=False)"
   ]
  },
  {
   "cell_type": "code",
   "execution_count": 121,
   "id": "47e19669-b865-4e1a-9ee0-5ada34da4757",
   "metadata": {},
   "outputs": [],
   "source": [
    "import pyspark.sql.functions as sf"
   ]
  },
  {
   "cell_type": "code",
   "execution_count": 125,
   "id": "45e8d0f2",
   "metadata": {},
   "outputs": [],
   "source": [
    "df = df.withColumn('zip_code', sf.regexp_extract('request_address', r'\\d+$', 0))"
   ]
  },
  {
   "cell_type": "code",
   "execution_count": 126,
   "id": "7a08c655",
   "metadata": {},
   "outputs": [
    {
     "name": "stdout",
     "output_type": "stream",
     "text": [
      "22/10/21 13:47:05 WARN TaskSetManager: Stage 89 contains a task of very large size (1653 KiB). The maximum recommended task size is 1000 KiB.\n",
      "-RECORD 0------------------------------------\n",
      " case_id              | 1014127332           \n",
      " case_opened_date     | 2018-01-01 00:42:00  \n",
      " case_closed_date     | 2018-01-01 12:29:00  \n",
      " case_due_date        | 2020-09-26 00:42:00  \n",
      " case_late            | false                \n",
      " num_days_late        | -998.5087616         \n",
      " case_closed          | true                 \n",
      " dept_division        | Field Operations     \n",
      " service_request_type | Stray Animal         \n",
      " SLA_days             | 999.0                \n",
      " case_status          | Closed               \n",
      " source_id            | svcCRMLS             \n",
      " request_address      | 2315  el paso st,... \n",
      " council_district     | 5                    \n",
      " num_weeks_late       | -142.6441088         \n",
      " zip_code             | 78207                \n",
      "only showing top 1 row\n",
      "\n"
     ]
    }
   ],
   "source": [
    "df.show(1, vertical=True)"
   ]
  },
  {
   "cell_type": "markdown",
   "id": "e16b302f",
   "metadata": {},
   "source": [
    "#### create case_lifetime column"
   ]
  },
  {
   "cell_type": "markdown",
   "id": "29d43cc6",
   "metadata": {},
   "source": [
    "- case_age: how long since the case first opened\n",
    "- days_to_close: the number of days between days opened and days closed\n",
    "- case_lifetime: if the case is open, how long since the case opened, if the case is closed, the number of days to close\n"
   ]
  },
  {
   "cell_type": "code",
   "execution_count": 127,
   "id": "5033c4f0",
   "metadata": {},
   "outputs": [
    {
     "name": "stdout",
     "output_type": "stream",
     "text": [
      "22/10/21 13:47:50 WARN TaskSetManager: Stage 90 contains a task of very large size (1653 KiB). The maximum recommended task size is 1000 KiB.\n",
      "-RECORD 0------------------------------------\n",
      " case_id              | 1014127332           \n",
      " case_opened_date     | 2018-01-01 00:42:00  \n",
      " case_closed_date     | 2018-01-01 12:29:00  \n",
      " case_due_date        | 2020-09-26 00:42:00  \n",
      " case_late            | false                \n",
      " num_days_late        | -998.5087616         \n",
      " case_closed          | true                 \n",
      " dept_division        | Field Operations     \n",
      " service_request_type | Stray Animal         \n",
      " SLA_days             | 999.0                \n",
      " case_status          | Closed               \n",
      " source_id            | svcCRMLS             \n",
      " request_address      | 2315  el paso st,... \n",
      " council_district     | 5                    \n",
      " num_weeks_late       | -142.6441088         \n",
      " zip_code             | 78207                \n",
      "only showing top 1 row\n",
      "\n"
     ]
    }
   ],
   "source": [
    "df.show(1, vertical=True)"
   ]
  },
  {
   "cell_type": "code",
   "execution_count": 130,
   "id": "7d66c14e-4dba-4552-b20b-d700b64607c2",
   "metadata": {},
   "outputs": [
    {
     "name": "stdout",
     "output_type": "stream",
     "text": [
      "22/10/21 13:49:38 WARN TaskSetManager: Stage 93 contains a task of very large size (1653 KiB). The maximum recommended task size is 1000 KiB.\n",
      "+--------------------------+\n",
      "|current_timestamp()       |\n",
      "+--------------------------+\n",
      "|2022-10-21 13:49:38.179276|\n",
      "+--------------------------+\n",
      "only showing top 1 row\n",
      "\n"
     ]
    }
   ],
   "source": [
    "df.select(current_timestamp()).show(1, truncate=False)"
   ]
  },
  {
   "cell_type": "code",
   "execution_count": 132,
   "id": "87f3203e",
   "metadata": {},
   "outputs": [],
   "source": [
    "#use datediff() to find the difference between two dates\n",
    "df = df.withColumn('case_age',\n",
    "              datediff(current_timestamp(), 'case_opened_date'))"
   ]
  },
  {
   "cell_type": "code",
   "execution_count": 133,
   "id": "21cbfb03",
   "metadata": {},
   "outputs": [
    {
     "name": "stdout",
     "output_type": "stream",
     "text": [
      "22/10/21 13:51:31 WARN TaskSetManager: Stage 95 contains a task of very large size (1653 KiB). The maximum recommended task size is 1000 KiB.\n",
      "+-------------------+--------+\n",
      "|   case_opened_date|case_age|\n",
      "+-------------------+--------+\n",
      "|2018-01-01 00:42:00|    1754|\n",
      "|2018-01-01 00:46:00|    1754|\n",
      "|2018-01-01 00:48:00|    1754|\n",
      "|2018-01-01 01:29:00|    1754|\n",
      "|2018-01-01 01:34:00|    1754|\n",
      "+-------------------+--------+\n",
      "only showing top 5 rows\n",
      "\n"
     ]
    }
   ],
   "source": [
    "df.select('case_opened_date', 'case_age').show(5)"
   ]
  },
  {
   "cell_type": "code",
   "execution_count": 134,
   "id": "0730ed15",
   "metadata": {},
   "outputs": [],
   "source": [
    "#create days_to_close\n",
    "df = df.withColumn('days_to_close',\n",
    "              datediff('case_closed_date', 'case_opened_date'))"
   ]
  },
  {
   "cell_type": "code",
   "execution_count": 136,
   "id": "adbeed81",
   "metadata": {},
   "outputs": [
    {
     "name": "stdout",
     "output_type": "stream",
     "text": [
      "22/10/21 13:52:44 WARN TaskSetManager: Stage 97 contains a task of very large size (1653 KiB). The maximum recommended task size is 1000 KiB.\n",
      "+-------------------+-------------------+-------------+\n",
      "|   case_opened_date|   case_closed_date|days_to_close|\n",
      "+-------------------+-------------------+-------------+\n",
      "|2018-01-01 00:42:00|2018-01-01 12:29:00|            0|\n",
      "|2018-01-01 00:46:00|2018-01-03 08:11:00|            2|\n",
      "|2018-01-01 00:48:00|2018-01-02 07:57:00|            1|\n",
      "|2018-01-01 01:29:00|2018-01-02 08:13:00|            1|\n",
      "|2018-01-01 01:34:00|2018-01-01 13:29:00|            0|\n",
      "+-------------------+-------------------+-------------+\n",
      "only showing top 5 rows\n",
      "\n"
     ]
    }
   ],
   "source": [
    "#look at new columns for cases that were closed\n",
    "df.select('case_opened_date', 'case_closed_date', 'days_to_close').show(5)"
   ]
  },
  {
   "cell_type": "code",
   "execution_count": 140,
   "id": "4e387c9d",
   "metadata": {},
   "outputs": [
    {
     "name": "stdout",
     "output_type": "stream",
     "text": [
      "22/10/21 13:54:40 WARN TaskSetManager: Stage 100 contains a task of very large size (1653 KiB). The maximum recommended task size is 1000 KiB.\n",
      "+-----------+-------------------+----------------+-------------+--------+\n",
      "|case_closed|   case_opened_date|case_closed_date|days_to_close|case_age|\n",
      "+-----------+-------------------+----------------+-------------+--------+\n",
      "|      false|2018-01-02 09:39:00|            null|         null|    1753|\n",
      "|      false|2018-01-02 10:49:00|            null|         null|    1753|\n",
      "|      false|2018-01-02 13:45:00|            null|         null|    1753|\n",
      "|      false|2018-01-02 14:09:00|            null|         null|    1753|\n",
      "|      false|2018-01-02 14:34:00|            null|         null|    1753|\n",
      "+-----------+-------------------+----------------+-------------+--------+\n",
      "only showing top 5 rows\n",
      "\n"
     ]
    }
   ],
   "source": [
    "#look at new columns for cases that were NOT closed\n",
    "df.select('case_closed',\n",
    "          'case_opened_date',\n",
    "          'case_closed_date',\n",
    "          'days_to_close',\n",
    "          'case_age'\n",
    "         ).where('case_closed == false').show(5)"
   ]
  },
  {
   "cell_type": "code",
   "execution_count": 143,
   "id": "732677de",
   "metadata": {},
   "outputs": [],
   "source": [
    "#create case_lifetime column\n",
    "df = df.withColumn('case_lifetime',\n",
    "             when(expr('! case_closed'),\n",
    "                 col('case_age')\n",
    "                 )\n",
    "             .otherwise(col('days_to_close'))\n",
    "             )"
   ]
  },
  {
   "cell_type": "code",
   "execution_count": 144,
   "id": "7b6bde5f",
   "metadata": {},
   "outputs": [
    {
     "name": "stdout",
     "output_type": "stream",
     "text": [
      "22/10/21 13:57:58 WARN TaskSetManager: Stage 102 contains a task of very large size (1653 KiB). The maximum recommended task size is 1000 KiB.\n",
      "+-----------+-------------------+----------------+-------------+--------+-------------+\n",
      "|case_closed|   case_opened_date|case_closed_date|days_to_close|case_age|case_lifetime|\n",
      "+-----------+-------------------+----------------+-------------+--------+-------------+\n",
      "|      false|2018-01-02 09:39:00|            null|         null|    1753|         1753|\n",
      "|      false|2018-01-02 10:49:00|            null|         null|    1753|         1753|\n",
      "|      false|2018-01-02 13:45:00|            null|         null|    1753|         1753|\n",
      "|      false|2018-01-02 14:09:00|            null|         null|    1753|         1753|\n",
      "|      false|2018-01-02 14:34:00|            null|         null|    1753|         1753|\n",
      "+-----------+-------------------+----------------+-------------+--------+-------------+\n",
      "only showing top 5 rows\n",
      "\n"
     ]
    }
   ],
   "source": [
    "df.select('case_closed',\n",
    "          'case_opened_date',\n",
    "          'case_closed_date',\n",
    "          'days_to_close',\n",
    "          'case_age',\n",
    "          'case_lifetime'\n",
    "         ).where('case_closed == false').show(5)"
   ]
  },
  {
   "cell_type": "code",
   "execution_count": 145,
   "id": "0eb4f8ea",
   "metadata": {},
   "outputs": [],
   "source": [
    "#drop unnecessary columns\n",
    "df = df.drop('case_age', 'days_to_close')"
   ]
  },
  {
   "cell_type": "code",
   "execution_count": 146,
   "id": "963206c4",
   "metadata": {},
   "outputs": [
    {
     "data": {
      "text/plain": [
       "['case_id',\n",
       " 'case_opened_date',\n",
       " 'case_closed_date',\n",
       " 'case_due_date',\n",
       " 'case_late',\n",
       " 'num_days_late',\n",
       " 'case_closed',\n",
       " 'dept_division',\n",
       " 'service_request_type',\n",
       " 'SLA_days',\n",
       " 'case_status',\n",
       " 'source_id',\n",
       " 'request_address',\n",
       " 'council_district',\n",
       " 'num_weeks_late',\n",
       " 'zip_code',\n",
       " 'case_lifetime']"
      ]
     },
     "execution_count": 146,
     "metadata": {},
     "output_type": "execute_result"
    }
   ],
   "source": [
    "df.columns"
   ]
  },
  {
   "cell_type": "markdown",
   "id": "638518f0",
   "metadata": {},
   "source": [
    "### join the dept table from sql to our current df"
   ]
  },
  {
   "cell_type": "code",
   "execution_count": 147,
   "id": "1261720d",
   "metadata": {},
   "outputs": [
    {
     "name": "stdout",
     "output_type": "stream",
     "text": [
      "22/10/21 13:59:58 WARN TaskSetManager: Stage 103 contains a task of very large size (1653 KiB). The maximum recommended task size is 1000 KiB.\n",
      "+----------------+\n",
      "|   dept_division|\n",
      "+----------------+\n",
      "|Field Operations|\n",
      "|     Storm Water|\n",
      "|     Storm Water|\n",
      "|Code Enforcement|\n",
      "|Field Operations|\n",
      "+----------------+\n",
      "only showing top 5 rows\n",
      "\n"
     ]
    }
   ],
   "source": [
    "df.select('dept_division').show(5)"
   ]
  },
  {
   "cell_type": "code",
   "execution_count": 149,
   "id": "c1447369-fdba-470f-bdff-fde866d464a6",
   "metadata": {},
   "outputs": [],
   "source": [
    "#get dept table from sql\n",
    "q = 'SELECT * FROM dept'\n",
    "dept = pd.read_sql(q, url)"
   ]
  },
  {
   "cell_type": "code",
   "execution_count": 150,
   "id": "22a0057a-e3a4-4d75-9455-e988742a0e40",
   "metadata": {},
   "outputs": [
    {
     "data": {
      "text/plain": [
       "DataFrame[dept_division: string, dept_name: string, standardized_dept_name: string, dept_subject_to_SLA: string]"
      ]
     },
     "execution_count": 150,
     "metadata": {},
     "output_type": "execute_result"
    }
   ],
   "source": [
    "dept = spark.createDataFrame(dept)\n",
    "dept"
   ]
  },
  {
   "cell_type": "code",
   "execution_count": 151,
   "id": "8c74ccea",
   "metadata": {},
   "outputs": [
    {
     "name": "stdout",
     "output_type": "stream",
     "text": [
      "+--------------------+--------------------+----------------------+-------------------+\n",
      "|       dept_division|           dept_name|standardized_dept_name|dept_subject_to_SLA|\n",
      "+--------------------+--------------------+----------------------+-------------------+\n",
      "|     311 Call Center|    Customer Service|      Customer Service|                YES|\n",
      "|               Brush|Solid Waste Manag...|           Solid Waste|                YES|\n",
      "|     Clean and Green|Parks and Recreation|    Parks & Recreation|                YES|\n",
      "|Clean and Green N...|Parks and Recreation|    Parks & Recreation|                YES|\n",
      "|    Code Enforcement|Code Enforcement ...|  DSD/Code Enforcement|                YES|\n",
      "+--------------------+--------------------+----------------------+-------------------+\n",
      "only showing top 5 rows\n",
      "\n"
     ]
    }
   ],
   "source": [
    "dept.show(5)"
   ]
  },
  {
   "cell_type": "code",
   "execution_count": 153,
   "id": "d8c5e38b",
   "metadata": {},
   "outputs": [],
   "source": [
    "df = df.join(dept,\n",
    "        'dept_division',\n",
    "        'left')"
   ]
  },
  {
   "cell_type": "code",
   "execution_count": 154,
   "id": "e801efb0",
   "metadata": {},
   "outputs": [
    {
     "name": "stdout",
     "output_type": "stream",
     "text": [
      "22/10/21 14:02:45 WARN TaskSetManager: Stage 112 contains a task of very large size (1653 KiB). The maximum recommended task size is 1000 KiB.\n",
      "-RECORD 0--------------------------------------\n",
      " dept_division          | Field Operations     \n",
      " case_id                | 1014127332           \n",
      " case_opened_date       | 2018-01-01 00:42:00  \n",
      " case_closed_date       | 2018-01-01 12:29:00  \n",
      " case_due_date          | 2020-09-26 00:42:00  \n",
      " case_late              | false                \n",
      " num_days_late          | -998.5087616         \n",
      " case_closed            | true                 \n",
      " service_request_type   | Stray Animal         \n",
      " SLA_days               | 999.0                \n",
      " case_status            | Closed               \n",
      " source_id              | svcCRMLS             \n",
      " request_address        | 2315  el paso st,... \n",
      " council_district       | 5                    \n",
      " num_weeks_late         | -142.6441088         \n",
      " zip_code               | 78207                \n",
      " case_lifetime          | 0                    \n",
      " dept_name              | Animal Care Services \n",
      " standardized_dept_name | Animal Care Services \n",
      " dept_subject_to_SLA    | YES                  \n",
      "only showing top 1 row\n",
      "\n"
     ]
    }
   ],
   "source": [
    "df.show(1, vertical=True)"
   ]
  },
  {
   "cell_type": "code",
   "execution_count": 155,
   "id": "2367b780",
   "metadata": {},
   "outputs": [],
   "source": [
    "df = df.drop('dept_division', 'dept_name')"
   ]
  },
  {
   "cell_type": "code",
   "execution_count": 156,
   "id": "c4160c97-24b6-4df1-86da-c910225b0ed4",
   "metadata": {},
   "outputs": [
    {
     "name": "stdout",
     "output_type": "stream",
     "text": [
      "22/10/21 14:03:19 WARN TaskSetManager: Stage 118 contains a task of very large size (1653 KiB). The maximum recommended task size is 1000 KiB.\n",
      "-RECORD 0--------------------------------------\n",
      " case_id                | 1014127332           \n",
      " case_opened_date       | 2018-01-01 00:42:00  \n",
      " case_closed_date       | 2018-01-01 12:29:00  \n",
      " case_due_date          | 2020-09-26 00:42:00  \n",
      " case_late              | false                \n",
      " num_days_late          | -998.5087616         \n",
      " case_closed            | true                 \n",
      " service_request_type   | Stray Animal         \n",
      " SLA_days               | 999.0                \n",
      " case_status            | Closed               \n",
      " source_id              | svcCRMLS             \n",
      " request_address        | 2315  el paso st,... \n",
      " council_district       | 5                    \n",
      " num_weeks_late         | -142.6441088         \n",
      " zip_code               | 78207                \n",
      " case_lifetime          | 0                    \n",
      " standardized_dept_name | Animal Care Services \n",
      " dept_subject_to_SLA    | YES                  \n",
      "only showing top 1 row\n",
      "\n"
     ]
    }
   ],
   "source": [
    "df.show(1, vertical=True)"
   ]
  },
  {
   "cell_type": "code",
   "execution_count": 158,
   "id": "bb8a98fe-ed7c-4a02-a703-724df38fe737",
   "metadata": {},
   "outputs": [],
   "source": [
    "df = df.withColumn('dept_subject_to_SLA',\n",
    "             expr('dept_subject_to_SLA == \"YES\"'))#.select('dept_subject_to_SLA').show(5)"
   ]
  },
  {
   "cell_type": "code",
   "execution_count": 159,
   "id": "b80af806-f184-4f95-8e21-fb0d5d01fa62",
   "metadata": {},
   "outputs": [
    {
     "data": {
      "text/plain": [
       "[('case_id', 'bigint'),\n",
       " ('case_opened_date', 'timestamp'),\n",
       " ('case_closed_date', 'timestamp'),\n",
       " ('case_due_date', 'timestamp'),\n",
       " ('case_late', 'boolean'),\n",
       " ('num_days_late', 'double'),\n",
       " ('case_closed', 'boolean'),\n",
       " ('service_request_type', 'string'),\n",
       " ('SLA_days', 'double'),\n",
       " ('case_status', 'string'),\n",
       " ('source_id', 'string'),\n",
       " ('request_address', 'string'),\n",
       " ('council_district', 'string'),\n",
       " ('num_weeks_late', 'double'),\n",
       " ('zip_code', 'string'),\n",
       " ('case_lifetime', 'int'),\n",
       " ('standardized_dept_name', 'string'),\n",
       " ('dept_subject_to_SLA', 'boolean')]"
      ]
     },
     "execution_count": 159,
     "metadata": {},
     "output_type": "execute_result"
    }
   ],
   "source": [
    "df.dtypes"
   ]
  },
  {
   "cell_type": "markdown",
   "id": "f904326a",
   "metadata": {},
   "source": [
    "### train, validate, test split"
   ]
  },
  {
   "cell_type": "markdown",
   "id": "c56246b8",
   "metadata": {},
   "source": [
    "- `.randomSplit` to split df"
   ]
  },
  {
   "cell_type": "code",
   "execution_count": 160,
   "id": "a4ad668e",
   "metadata": {},
   "outputs": [
    {
     "name": "stdout",
     "output_type": "stream",
     "text": [
      "22/10/21 14:07:03 WARN TaskSetManager: Stage 130 contains a task of very large size (1653 KiB). The maximum recommended task size is 1000 KiB.\n"
     ]
    },
    {
     "name": "stderr",
     "output_type": "stream",
     "text": [
      "                                                                                \r"
     ]
    },
    {
     "data": {
      "text/plain": [
       "100000"
      ]
     },
     "execution_count": 160,
     "metadata": {},
     "output_type": "execute_result"
    }
   ],
   "source": [
    "df.count()"
   ]
  },
  {
   "cell_type": "code",
   "execution_count": 162,
   "id": "45031a22",
   "metadata": {},
   "outputs": [],
   "source": [
    "train, test = df.randomSplit([.8,.2], 123)"
   ]
  },
  {
   "cell_type": "code",
   "execution_count": 163,
   "id": "8eb9718c",
   "metadata": {},
   "outputs": [
    {
     "name": "stdout",
     "output_type": "stream",
     "text": [
      "22/10/21 14:08:00 WARN TaskSetManager: Stage 139 contains a task of very large size (1653 KiB). The maximum recommended task size is 1000 KiB.\n"
     ]
    },
    {
     "name": "stderr",
     "output_type": "stream",
     "text": [
      "                                                                                \r"
     ]
    },
    {
     "name": "stdout",
     "output_type": "stream",
     "text": [
      "22/10/21 14:08:04 WARN TaskSetManager: Stage 148 contains a task of very large size (1653 KiB). The maximum recommended task size is 1000 KiB.\n"
     ]
    },
    {
     "name": "stderr",
     "output_type": "stream",
     "text": [
      "                                                                                \r"
     ]
    },
    {
     "data": {
      "text/plain": [
       "(80131, 19869)"
      ]
     },
     "execution_count": 163,
     "metadata": {},
     "output_type": "execute_result"
    }
   ],
   "source": [
    "train.count(), test.count()"
   ]
  },
  {
   "cell_type": "code",
   "execution_count": 164,
   "id": "f1559c85-2a27-452f-a040-af89bde91910",
   "metadata": {},
   "outputs": [],
   "source": [
    "train, val, test = df.randomSplit([.6,.2,.2], 123)"
   ]
  },
  {
   "cell_type": "code",
   "execution_count": 165,
   "id": "d30b8772-b6aa-46e1-9058-e85a3b1ea498",
   "metadata": {},
   "outputs": [
    {
     "name": "stdout",
     "output_type": "stream",
     "text": [
      "22/10/21 14:08:41 WARN TaskSetManager: Stage 157 contains a task of very large size (1653 KiB). The maximum recommended task size is 1000 KiB.\n"
     ]
    },
    {
     "name": "stderr",
     "output_type": "stream",
     "text": [
      "                                                                                \r"
     ]
    },
    {
     "name": "stdout",
     "output_type": "stream",
     "text": [
      "22/10/21 14:08:43 WARN TaskSetManager: Stage 166 contains a task of very large size (1653 KiB). The maximum recommended task size is 1000 KiB.\n"
     ]
    },
    {
     "name": "stderr",
     "output_type": "stream",
     "text": [
      "                                                                                \r"
     ]
    },
    {
     "name": "stdout",
     "output_type": "stream",
     "text": [
      "22/10/21 14:08:44 WARN TaskSetManager: Stage 175 contains a task of very large size (1653 KiB). The maximum recommended task size is 1000 KiB.\n"
     ]
    },
    {
     "name": "stderr",
     "output_type": "stream",
     "text": [
      "                                                                                \r"
     ]
    },
    {
     "data": {
      "text/plain": [
       "(60118, 20013, 19869)"
      ]
     },
     "execution_count": 165,
     "metadata": {},
     "output_type": "execute_result"
    }
   ],
   "source": [
    "train.count(), val.count(), test.count()"
   ]
  },
  {
   "cell_type": "code",
   "execution_count": null,
   "id": "972366d9-9606-43d5-a42f-525110909062",
   "metadata": {},
   "outputs": [],
   "source": []
  }
 ],
 "metadata": {
  "kernelspec": {
   "display_name": "Python 3 (ipykernel)",
   "language": "python",
   "name": "python3"
  },
  "language_info": {
   "codemirror_mode": {
    "name": "ipython",
    "version": 3
   },
   "file_extension": ".py",
   "mimetype": "text/x-python",
   "name": "python",
   "nbconvert_exporter": "python",
   "pygments_lexer": "ipython3",
   "version": "3.9.12"
  }
 },
 "nbformat": 4,
 "nbformat_minor": 5
}
